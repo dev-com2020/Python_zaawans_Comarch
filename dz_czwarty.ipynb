{
  "nbformat": 4,
  "nbformat_minor": 0,
  "metadata": {
    "colab": {
      "name": "dz_czwarty.ipynb",
      "provenance": [],
      "collapsed_sections": []
    },
    "kernelspec": {
      "name": "python3",
      "display_name": "Python 3"
    },
    "language_info": {
      "name": "python"
    }
  },
  "cells": [
    {
      "cell_type": "code",
      "execution_count": null,
      "metadata": {
        "colab": {
          "base_uri": "https://localhost:8080/"
        },
        "id": "Om4M2j5V8TTC",
        "outputId": "e001b907-f6dd-4e18-d3c5-2bdc33b913b2"
      },
      "outputs": [
        {
          "output_type": "execute_result",
          "data": {
            "text/plain": [
              "3.14159"
            ]
          },
          "metadata": {},
          "execution_count": 19
        }
      ],
      "source": [
        "class Figura:\n",
        "    def __init__(self,x,y):\n",
        "        self.x = x\n",
        "        self.y = y\n",
        "    \n",
        "    def przesun(self,delta_x,delta_y):\n",
        "        self.x = self.x + delta_x\n",
        "        self.y = self.y + delta_y\n",
        "\n",
        "\n",
        "class Circle(Figura):\n",
        "    \"\"\" Klasa Koło\"\"\"\n",
        "    kola = []\n",
        "    pi = 3.14159\n",
        "\n",
        "    def __init__(self,promien=1, x=0,y=0):\n",
        "        super().__init__(x,y)\n",
        "        self.promien = promien\n",
        "        self.kola.append(self)\n",
        "    \n",
        "    @staticmethod\n",
        "    def pole_kola(promien):\n",
        "        return Circle.pi * promien * promien\n",
        "    \n",
        "    @classmethod\n",
        "    def suma_pol(cls):\n",
        "        pole = 0\n",
        "        for kolo in cls.kola:\n",
        "            pole += cls.pole_kola(kolo.promien)\n",
        "        return pole\n",
        "\n",
        "k1 = Circle()\n",
        "k1.promien, k1.x, k1.y\n",
        "k2 = Circle(2,1,1)\n",
        "k2.promien, k2.x, k2.y\n",
        "k2.przesun(2,2)\n",
        "k2.promien, k2.x, k2.y\n",
        "Circle.kola\n",
        "[k1,k2]\n",
        "Circle.suma_pol()\n",
        "k2.suma_pol()\n",
        "Circle.pole_kola(k1.promien)\n",
        "k1.pole_kola(k1.promien)"
      ]
    },
    {
      "cell_type": "code",
      "source": [
        "class Talia:\n",
        "  ranks = [str(n) for n in range(2,11)] + list('JQKA')\n",
        "  suits = 'spades diamonds clubs hearts'.split()\n",
        "\n",
        "  def __init__(self):\n",
        "    self._cards = [Card(rank,suit) for suit in self.suits\n",
        "                                     for rank in self.ranks]\n",
        "  \n",
        "  def __len__(self):\n",
        "    return len(self._cards)\n",
        "  \n",
        "  def __getitem__(self,position):\n",
        "    return self._cards[position]"
      ],
      "metadata": {
        "id": "q6UerGi4f7K5"
      },
      "execution_count": null,
      "outputs": []
    },
    {
      "cell_type": "code",
      "source": [
        "from random import shuffle\n",
        "l = list(range(10))\n",
        "shuffle(l)\n",
        "l"
      ],
      "metadata": {
        "colab": {
          "base_uri": "https://localhost:8080/"
        },
        "id": "9hpaKL-7pLUp",
        "outputId": "79b3fbf4-dad9-4c7a-a514-c042e4b4aea1"
      },
      "execution_count": null,
      "outputs": [
        {
          "output_type": "execute_result",
          "data": {
            "text/plain": [
              "[5, 0, 6, 9, 8, 7, 2, 1, 3, 4]"
            ]
          },
          "metadata": {},
          "execution_count": 110
        }
      ]
    },
    {
      "cell_type": "code",
      "source": [
        "class Temperatura:\n",
        "    def __init__(self):\n",
        "        self._temp_fahr = 0\n",
        "    \n",
        "    @property\n",
        "    def temp(self):\n",
        "        return (self._temp_fahr - 32) * 5 / 9\n",
        "\n",
        "    @temp.setter\n",
        "    def temp(self,nowa_temp):\n",
        "        self._temp_fahr = nowa_temp * 9/5 +32\n",
        "\n",
        "\n",
        "t = Temperatura()\n",
        "t._temp_fahr\n",
        "t.temp\n",
        "t.temp = 34\n",
        "t._temp_fahr\n",
        "t.temp\n"
      ],
      "metadata": {
        "colab": {
          "base_uri": "https://localhost:8080/"
        },
        "id": "VvPnunozba5n",
        "outputId": "995a740d-cd9b-4ede-f2d8-c03d96ad698c"
      },
      "execution_count": null,
      "outputs": [
        {
          "output_type": "execute_result",
          "data": {
            "text/plain": [
              "34.0"
            ]
          },
          "metadata": {},
          "execution_count": 23
        }
      ]
    },
    {
      "cell_type": "code",
      "source": [
        "l1 = [3,[66,77,88],(7,8,9)]\n",
        "l2 = list(l1)\n",
        "l1.append(100)\n",
        "l1[1].remove(77)\n",
        "print('l1:',l1)\n",
        "print('l2:',l2)\n",
        "l2[1] += [33,22]\n",
        "l2[2] += (10,11)\n",
        "print('l1:',l1)\n",
        "print('l2:',l2)\n"
      ],
      "metadata": {
        "colab": {
          "base_uri": "https://localhost:8080/"
        },
        "id": "pCoU2YPcep2R",
        "outputId": "7a1370b0-7f5e-434e-91b7-40ee50fcd907"
      },
      "execution_count": null,
      "outputs": [
        {
          "output_type": "stream",
          "name": "stdout",
          "text": [
            "l1: [3, [66, 88], (7, 8, 9), 100]\n",
            "l2: [3, [66, 88], (7, 8, 9)]\n",
            "l1: [3, [66, 88, 33, 22], (7, 8, 9), 100]\n",
            "l2: [3, [66, 88, 33, 22], (7, 8, 9, 10, 11)]\n"
          ]
        }
      ]
    },
    {
      "cell_type": "code",
      "source": [
        "import copy\n",
        "\n",
        "class Train:\n",
        "    def __init__(self,passengers=None):\n",
        "        if passengers is None:\n",
        "            self.passengers = []\n",
        "        else:\n",
        "            self.passengers = list(passengers)\n",
        "    \n",
        "    def pick(self,name):\n",
        "        self.passengers.append(name)\n",
        "    \n",
        "    def drop(self,name):\n",
        "        self.passengers.remove(name)\n",
        "\n",
        "wagon1 = Train(['Marcin','Tomek','Joanna','Andrzej'])\n",
        "wagon2 = copy.copy(wagon1)\n",
        "wagon3 = copy.deepcopy(wagon1)\n",
        "\n",
        "wagon1.drop('Tomek')\n",
        "wagon2.passengers\n",
        "# id(wagon1),id(wagon2),id(wagon3)\n",
        "# wagon3.passengers"
      ],
      "metadata": {
        "colab": {
          "base_uri": "https://localhost:8080/"
        },
        "id": "kSCI4IMGg8Gx",
        "outputId": "99398079-278a-4c27-aca9-8b4b3b2217a1"
      },
      "execution_count": null,
      "outputs": [
        {
          "output_type": "execute_result",
          "data": {
            "text/plain": [
              "['Marcin', 'Joanna', 'Andrzej']"
            ]
          },
          "metadata": {},
          "execution_count": 1
        }
      ]
    },
    {
      "cell_type": "code",
      "source": [
        "class Train:\n",
        "    def __init__(self,passengers=[]):\n",
        "        self.passengers = passengers\n",
        "       \n",
        "    def pick(self,name):\n",
        "        self.passengers.append(name)\n",
        "    \n",
        "    def drop(self,name):\n",
        "        self.passengers.remove(name)\n",
        "\n",
        "\n",
        "wagon1 = Train(['Marcin','Tomek','Joanna','Andrzej'])\n",
        "wagon1.passengers\n",
        "wagon1.pick('Mariusz')\n",
        "wagon1.drop('Tomek')\n",
        "wagon1.passengers\n",
        "wagon2 = Train()\n",
        "wagon2.pick('Mariusz')\n",
        "wagon2.passengers\n",
        "wagon3 = Train()\n",
        "wagon3.passengers\n",
        "wagon2.passengers\n",
        "wagon2.passengers is wagon3.passengers\n",
        "wagon1.passengers\n",
        "Train.__init__.__defaults__\n",
        "dir(Train.__init__)\n",
        "Train.__init__.__defaults__[0] is wagon2.passengers\n"
      ],
      "metadata": {
        "colab": {
          "base_uri": "https://localhost:8080/"
        },
        "id": "le2c5FLlkPHZ",
        "outputId": "4bbacc9f-de74-4c90-c0b1-2940f5eca7b5"
      },
      "execution_count": null,
      "outputs": [
        {
          "output_type": "execute_result",
          "data": {
            "text/plain": [
              "True"
            ]
          },
          "metadata": {},
          "execution_count": 47
        }
      ]
    },
    {
      "cell_type": "code",
      "source": [
        "class Train:\n",
        "    def __init__(self,passengers=None):\n",
        "        if passengers is None:\n",
        "            self.passengers = []\n",
        "        else:\n",
        "            self.passengers = passengers\n",
        "    \n",
        "    def pick(self,name):\n",
        "        self.passengers.append(name)\n",
        "    \n",
        "    def drop(self,name):\n",
        "        self.passengers.remove(name)\n",
        "\n",
        "pendolino = ['Marcin','Tomek','Joanna','Andrzej','Mariusz']\n",
        "wagon = Train(pendolino)\n",
        "wagon.drop('Tomek')\n",
        "wagon.drop('Mariusz')\n",
        "pendolino\n"
      ],
      "metadata": {
        "colab": {
          "base_uri": "https://localhost:8080/"
        },
        "id": "zPTGAGDqoRr9",
        "outputId": "27dc707c-edb2-451c-f71c-0dbdae976b0c"
      },
      "execution_count": null,
      "outputs": [
        {
          "output_type": "execute_result",
          "data": {
            "text/plain": [
              "['Marcin', 'Tomek', 'Joanna', 'Andrzej', 'Mariusz']"
            ]
          },
          "metadata": {},
          "execution_count": 49
        }
      ]
    },
    {
      "cell_type": "code",
      "source": [
        "def f(a,b):\n",
        "    a += b\n",
        "    return a\n",
        "\n",
        "x = 1\n",
        "y = 2\n",
        "f(x,y)\n",
        "x,y\n",
        "a = [1,2]\n",
        "b = [3,4]\n",
        "f(a,b)\n",
        "a,b\n",
        "t = (30,40)\n",
        "u = (10,20)\n",
        "f(t,u)\n",
        "t,u"
      ],
      "metadata": {
        "colab": {
          "base_uri": "https://localhost:8080/"
        },
        "id": "Y1Z7MN5ljPlD",
        "outputId": "2d816a58-6865-4fae-d07d-2cd9ee417a9f"
      },
      "execution_count": null,
      "outputs": [
        {
          "output_type": "execute_result",
          "data": {
            "text/plain": [
              "((30, 40), (10, 20))"
            ]
          },
          "metadata": {},
          "execution_count": 37
        }
      ]
    },
    {
      "cell_type": "code",
      "source": [
        "import weakref\n",
        "s1 = {1,2,3}\n",
        "s2 = s1\n",
        "\n",
        "def bye():\n",
        "    print('Żegnam...')\n",
        "\n",
        "ender = weakref.finalize(s1,bye)\n",
        "ender.alive\n",
        "del s1\n",
        "ender.alive\n",
        "s2 = 'Tomek'"
      ],
      "metadata": {
        "colab": {
          "base_uri": "https://localhost:8080/"
        },
        "id": "s6F4fzLatUM_",
        "outputId": "eb54681e-3a53-48bc-81eb-35616f52229e"
      },
      "execution_count": null,
      "outputs": [
        {
          "output_type": "stream",
          "name": "stdout",
          "text": [
            "Żegnam...\n"
          ]
        },
        {
          "output_type": "execute_result",
          "data": {
            "text/plain": [
              "False"
            ]
          },
          "metadata": {},
          "execution_count": 59
        }
      ]
    },
    {
      "cell_type": "code",
      "source": [
        "import weakref\n",
        "s1 = {1,2,3}\n",
        "wref = weakref.ref(s1)\n",
        "print(wref())\n",
        "print(wref() is None)\n",
        "s1 = {5,6,7}\n",
        "print(wref() is None)"
      ],
      "metadata": {
        "colab": {
          "base_uri": "https://localhost:8080/"
        },
        "id": "11vQ1ZeHvkO6",
        "outputId": "ea63166d-6892-4494-ea1b-5ccc828d9346"
      },
      "execution_count": null,
      "outputs": [
        {
          "output_type": "stream",
          "name": "stdout",
          "text": [
            "{1, 2, 3}\n",
            "False\n",
            "True\n"
          ]
        }
      ]
    },
    {
      "cell_type": "code",
      "source": [
        "import weakref\n",
        "\n",
        "class Ser:\n",
        "    def __init__(self,kind):\n",
        "        self.kind = kind\n",
        "    \n",
        "    def __repr__(self):\n",
        "        return 'Ser(%r)' % self.kind\n",
        "\n",
        "\n",
        "stock = weakref.WeakValueDictionary()\n",
        "catalog = [Ser('Red Leicester'), Ser('Tilsit'),Ser('Brie'), Ser('Parmesan')]\n",
        "\n",
        "for c in catalog:\n",
        "    stock[c.kind] = c\n",
        "\n",
        "sorted(stock.keys())\n",
        "del catalog\n",
        "sorted(stock.keys())\n",
        "del c\n",
        "sorted(stock.keys())"
      ],
      "metadata": {
        "colab": {
          "base_uri": "https://localhost:8080/"
        },
        "id": "9SCmAkfGxENR",
        "outputId": "bd9874b9-478a-4dbd-bd45-e96aa528c9cd"
      },
      "execution_count": null,
      "outputs": [
        {
          "output_type": "execute_result",
          "data": {
            "text/plain": [
              "[]"
            ]
          },
          "metadata": {},
          "execution_count": 76
        }
      ]
    },
    {
      "cell_type": "code",
      "source": [
        "from math import hypot\n",
        "from array import array\n",
        "\n",
        "class Vector:\n",
        "\n",
        "    __slots__ = ('_x','_y')\n",
        "\n",
        "    typecode = 'd'\n",
        "\n",
        "    def __init__(self, x, y):\n",
        "        self._x = float(x)\n",
        "        self._y = float(y)\n",
        "\n",
        "    @property\n",
        "    def x(self):\n",
        "        return self._x\n",
        "\n",
        "    @property\n",
        "    def y(self):\n",
        "        return self._y\n",
        "\n",
        "    def __iter__(self):\n",
        "        return (i for i in (self.x, self.y))\n",
        "\n",
        "    def __repr__(self):\n",
        "        class_name = type(self).__name__\n",
        "        return '{}({!r}, {!r})'.format(class_name, *self)\n",
        "\n",
        "    def __str__(self):\n",
        "        return str(tuple(self))\n",
        "    \n",
        "    def __bytes__(self):\n",
        "        return (bytes([ord(self.typecode)]) + bytes(array(self.typecode, self)))\n",
        "\n",
        "    @classmethod\n",
        "    def frombytes(cls,bajty):\n",
        "        typecode = chr(bajty[0])\n",
        "        memv = memoryview(bajty[1:].cast(typecode))\n",
        "        return cls(*memv)\n",
        "\n",
        "    def __abs__(self):\n",
        "        return hypot(self.x, self.y)\n",
        "\n",
        "    def __bool__(self):\n",
        "        return bool(abs(self))\n",
        "\n",
        "    def __add__(self, other):\n",
        "        x = self.x + other.x\n",
        "        y = self.y + other.y\n",
        "        return Vector(x, y)\n",
        "\n",
        "    def __mul__(self, scalar):\n",
        "        return Vector(self.x * scalar, self.y * scalar)\n",
        "    \n",
        "    def __eq__(self,other):\n",
        "        return tuple(self) == tuple(other)\n",
        "\n",
        "\n",
        "\n",
        "\n",
        "\n",
        "\n",
        "v1 = Vector(3,4)\n",
        "print(v1.x, v1.y)\n",
        "x,y = v1\n",
        "x,y\n",
        "v1\n",
        "\n",
        "# v2 = Vector(3.0,4.0)\n",
        "# print(v2.x, v2.y)\n",
        "v1_clone = eval(repr(v1))\n",
        "v1 == v1_clone\n",
        "print(v1)\n",
        "bajty = bytes(v1)\n",
        "bajty\n",
        "abs(v1)\n",
        "bool(v1), bool(Vector(0,0))"
      ],
      "metadata": {
        "colab": {
          "base_uri": "https://localhost:8080/"
        },
        "id": "xDdVsO4219k_",
        "outputId": "80d3ffcc-a663-4602-dbdc-8b7d9f2253ef"
      },
      "execution_count": null,
      "outputs": [
        {
          "output_type": "stream",
          "name": "stdout",
          "text": [
            "3.0 4.0\n",
            "(3.0, 4.0)\n"
          ]
        },
        {
          "output_type": "execute_result",
          "data": {
            "text/plain": [
              "(True, False)"
            ]
          },
          "metadata": {},
          "execution_count": 100
        }
      ]
    },
    {
      "cell_type": "code",
      "source": [
        "class Demo:\n",
        "    @classmethod\n",
        "    def klas(*args):\n",
        "        return args\n",
        "    \n",
        "    @staticmethod\n",
        "    def stat(*args):\n",
        "        return args\n",
        "\n",
        "Demo.klas()\n",
        "Demo.klas('tekst')\n",
        "Demo.stat()\n",
        "Demo.stat('tekst')"
      ],
      "metadata": {
        "colab": {
          "base_uri": "https://localhost:8080/"
        },
        "id": "IB8I6_kR_vs2",
        "outputId": "a3f4421d-f684-4ded-8bc6-303dc90d7c4a"
      },
      "execution_count": null,
      "outputs": [
        {
          "output_type": "execute_result",
          "data": {
            "text/plain": [
              "('tekst',)"
            ]
          },
          "metadata": {},
          "execution_count": 98
        }
      ]
    },
    {
      "cell_type": "code",
      "source": [
        "from array import array\n",
        "import reprlib\n",
        "import math\n",
        "import numbers\n",
        "import functools\n",
        "import operator\n",
        "import itertools\n",
        "\n",
        "class Vector:\n",
        "    typecode = 'd'\n",
        "\n",
        "    def __init__(self, components):\n",
        "        self._components = array(self.typecode, components)\n",
        "\n",
        "    def __iter__(self):\n",
        "        return iter(self._components)\n",
        "\n",
        "    def __repr__(self):\n",
        "        components = reprlib.repr(self._components)\n",
        "        components = components[components.find('['):-1]\n",
        "        return 'Vector({})'.format(components)\n",
        "\n",
        "    def __str__(self):\n",
        "        return str(tuple(self))\n",
        "\n",
        "    def __bytes__(self):\n",
        "        return (bytes([ord(self.typecode)]) +\n",
        "                bytes(self._components))\n",
        "\n",
        "    def __eq__(self, other):\n",
        "        return (len(self) == len(other) and\n",
        "                all(a == b for a, b in zip(self, other)))\n",
        "\n",
        "    def __hash__(self):\n",
        "        hashes = (hash(x) for x in self)\n",
        "        return functools.reduce(operator.xor, hashes, 0)\n",
        "\n",
        "    def __abs__(self):\n",
        "        return math.sqrt(sum(x * x for x in self))\n",
        "\n",
        "    def __bool__(self):\n",
        "        return bool(abs(self))\n",
        "\n",
        "    def __len__(self):\n",
        "        return len(self._components)\n",
        "\n",
        "    def __getitem__(self, index):\n",
        "        cls = type(self)\n",
        "        if isinstance(index, slice):\n",
        "            return cls(self._components[index])\n",
        "        elif isinstance(index, numbers.Integral):\n",
        "            return self._components[index]\n",
        "        else:\n",
        "            msg = '{.__name__} indices must be integers'\n",
        "            raise TypeError(msg.format(cls))\n",
        "\n",
        "    shortcut_names = 'xyzt'\n",
        "\n",
        "    def __getattr__(self, name):\n",
        "        cls = type(self)\n",
        "        if len(name) == 1:\n",
        "            pos = cls.shortcut_names.find(name)\n",
        "            if 0 <= pos < len(self._components):\n",
        "                return self._components[pos]\n",
        "        msg = '{.__name__!r} object has no attribute {!r}'\n",
        "        raise AttributeError(msg.format(cls, name))\n",
        "\n",
        "    def angle(self, n):  # <2>\n",
        "        r = math.sqrt(sum(x * x for x in self[n:]))\n",
        "        a = math.atan2(r, self[n-1])\n",
        "        if (n == len(self) - 1) and (self[-1] < 0):\n",
        "            return math.pi * 2 - a\n",
        "        else:\n",
        "            return a\n",
        "\n",
        "    def angles(self):  # <3>\n",
        "        return (self.angle(n) for n in range(1, len(self)))\n",
        "\n",
        "    def __format__(self, fmt_spec=''):\n",
        "        if fmt_spec.endswith('h'):  # hyperspherical coordinates\n",
        "            fmt_spec = fmt_spec[:-1]\n",
        "            coords = itertools.chain([abs(self)],\n",
        "                                     self.angles())  # <4>\n",
        "            outer_fmt = '<{}>'  # <5>\n",
        "        else:\n",
        "            coords = self\n",
        "            outer_fmt = '({})'  # <6>\n",
        "        components = (format(c, fmt_spec) for c in coords)  # <7>\n",
        "        return outer_fmt.format(', '.join(components))  # <8>\n",
        "\n",
        "    @classmethod\n",
        "    def frombytes(cls, octets):\n",
        "        typecode = chr(octets[0])\n",
        "        memv = memoryview(octets[1:]).cast(typecode)\n",
        "        return cls(memv)\n",
        "\n",
        "\n",
        "v1 = Vector([3,4,5])\n",
        "len(v1)\n",
        "v1[0], v1[-1]\n",
        "v2 = Vector(range(7))\n",
        "v2[1:4]"
      ],
      "metadata": {
        "colab": {
          "base_uri": "https://localhost:8080/"
        },
        "id": "oaL8qMjehOmm",
        "outputId": "b1eda42f-552c-4b7c-b573-327a9c7ac990"
      },
      "execution_count": null,
      "outputs": [
        {
          "output_type": "execute_result",
          "data": {
            "text/plain": [
              "Vector([1.0, 2.0, 3.0])"
            ]
          },
          "metadata": {},
          "execution_count": 105
        }
      ]
    },
    {
      "cell_type": "code",
      "source": [
        "class Test:\n",
        "    def __getitem__(self,pos):\n",
        "        return range(0,30,10)[pos]\n",
        "\n",
        "t = Test()\n",
        "t[1]\n",
        "for i in t: print(i)\n",
        "25 in t"
      ],
      "metadata": {
        "colab": {
          "base_uri": "https://localhost:8080/"
        },
        "id": "t2WXHXc1mjEg",
        "outputId": "d3b76fb9-87e5-4bba-8bf7-3d69a989a6db"
      },
      "execution_count": null,
      "outputs": [
        {
          "output_type": "stream",
          "name": "stdout",
          "text": [
            "0\n",
            "10\n",
            "20\n"
          ]
        },
        {
          "output_type": "execute_result",
          "data": {
            "text/plain": [
              "False"
            ]
          },
          "metadata": {},
          "execution_count": 109
        }
      ]
    },
    {
      "cell_type": "code",
      "source": [
        "import collections\n",
        "from random import choice, shuffle\n",
        "\n",
        "Card = collections.namedtuple('Card',['rank','suit'])\n",
        "\n",
        "class Talia:\n",
        "  ranks = [str(n) for n in range(2,11)] + list('JQKA')\n",
        "  suits = 'spades diamonds clubs hearts'.split()\n",
        "\n",
        "  def __init__(self):\n",
        "    self._cards = [Card(rank,suit) for suit in self.suits\n",
        "                                     for rank in self.ranks]\n",
        "  \n",
        "  def __len__(self):\n",
        "    return len(self._cards)\n",
        "  \n",
        "  def __getitem__(self,position):\n",
        "    return self._cards[position]\n",
        "\n",
        "\n",
        "deck = Talia()\n",
        "def set_card(deck,position,card):\n",
        "    deck._cards[position] = card\n",
        "    \n",
        "Talia.__setitem__ = set_card\n",
        "shuffle(deck)\n",
        "deck[:5]\n"
      ],
      "metadata": {
        "colab": {
          "base_uri": "https://localhost:8080/"
        },
        "id": "Zpdpf2MFpqKp",
        "outputId": "88a8a1b2-105f-4128-ab99-947356209d13"
      },
      "execution_count": null,
      "outputs": [
        {
          "output_type": "execute_result",
          "data": {
            "text/plain": [
              "[Card(rank='K', suit='spades'),\n",
              " Card(rank='4', suit='hearts'),\n",
              " Card(rank='8', suit='hearts'),\n",
              " Card(rank='A', suit='clubs'),\n",
              " Card(rank='5', suit='clubs')]"
            ]
          },
          "metadata": {},
          "execution_count": 112
        }
      ]
    },
    {
      "cell_type": "code",
      "source": [
        "class Duck:\n",
        "    def swim(self):\n",
        "        print(\"Duck swimming\")\n",
        "\n",
        "    def fly(self):\n",
        "        print(\"Duck flying\")\n",
        "\n",
        "class Whale:\n",
        "    def swim(self):\n",
        "        print(\"Whale swimming\")\n",
        "\n",
        "for animal in [Duck(), Whale()]:\n",
        "    animal.swim()\n",
        "    animal.fly()"
      ],
      "metadata": {
        "colab": {
          "base_uri": "https://localhost:8080/",
          "height": 253
        },
        "id": "GIDsly5asw8c",
        "outputId": "36f5e495-4a0b-4c9c-eca4-3edf77b023d6"
      },
      "execution_count": null,
      "outputs": [
        {
          "output_type": "stream",
          "name": "stdout",
          "text": [
            "Duck swimming\n",
            "Duck flying\n",
            "Whale swimming\n"
          ]
        },
        {
          "output_type": "error",
          "ename": "AttributeError",
          "evalue": "ignored",
          "traceback": [
            "\u001b[0;31m---------------------------------------------------------------------------\u001b[0m",
            "\u001b[0;31mAttributeError\u001b[0m                            Traceback (most recent call last)",
            "\u001b[0;32m<ipython-input-113-66e89dcf62f3>\u001b[0m in \u001b[0;36m<module>\u001b[0;34m()\u001b[0m\n\u001b[1;32m     12\u001b[0m \u001b[0;32mfor\u001b[0m \u001b[0manimal\u001b[0m \u001b[0;32min\u001b[0m \u001b[0;34m[\u001b[0m\u001b[0mDuck\u001b[0m\u001b[0;34m(\u001b[0m\u001b[0;34m)\u001b[0m\u001b[0;34m,\u001b[0m \u001b[0mWhale\u001b[0m\u001b[0;34m(\u001b[0m\u001b[0;34m)\u001b[0m\u001b[0;34m]\u001b[0m\u001b[0;34m:\u001b[0m\u001b[0;34m\u001b[0m\u001b[0;34m\u001b[0m\u001b[0m\n\u001b[1;32m     13\u001b[0m     \u001b[0manimal\u001b[0m\u001b[0;34m.\u001b[0m\u001b[0mswim\u001b[0m\u001b[0;34m(\u001b[0m\u001b[0;34m)\u001b[0m\u001b[0;34m\u001b[0m\u001b[0;34m\u001b[0m\u001b[0m\n\u001b[0;32m---> 14\u001b[0;31m     \u001b[0manimal\u001b[0m\u001b[0;34m.\u001b[0m\u001b[0mfly\u001b[0m\u001b[0;34m(\u001b[0m\u001b[0;34m)\u001b[0m\u001b[0;34m\u001b[0m\u001b[0;34m\u001b[0m\u001b[0m\n\u001b[0m",
            "\u001b[0;31mAttributeError\u001b[0m: 'Whale' object has no attribute 'fly'"
          ]
        }
      ]
    }
  ]
}