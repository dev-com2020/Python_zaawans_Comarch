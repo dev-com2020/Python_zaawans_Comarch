{
  "nbformat": 4,
  "nbformat_minor": 0,
  "metadata": {
    "colab": {
      "name": "dz_drugi.ipynb",
      "provenance": [],
      "collapsed_sections": []
    },
    "kernelspec": {
      "name": "python3",
      "display_name": "Python 3"
    },
    "language_info": {
      "name": "python"
    }
  },
  "cells": [
    {
      "cell_type": "markdown",
      "source": [
        "*•* wspólne metody słowników\n",
        "• specjalna obsługa brakujących kluczy\n",
        "• odmiany typu dict w bibliotece standardowej\n",
        "• typy set i frozenset\n",
        "• działanie tablic mieszających\n",
        "• konsekwencje stosowania tablic mieszających (ograniczenia typu kluczy, nieprzewidywalne\n",
        "uporządkowanie itp.)"
      ],
      "metadata": {
        "id": "NmZ1a7rkt47S"
      }
    },
    {
      "cell_type": "code",
      "execution_count": null,
      "metadata": {
        "colab": {
          "base_uri": "https://localhost:8080/"
        },
        "id": "Sd5wEwzCrqDh",
        "outputId": "69c1a0ee-d148-4a71-9704-e81b9f5d4f91"
      },
      "outputs": [
        {
          "output_type": "execute_result",
          "data": {
            "text/plain": [
              "True"
            ]
          },
          "metadata": {},
          "execution_count": 3
        }
      ],
      "source": [
        "import collections.abc as abc\n",
        "\n",
        "my_dict = {\"imie\":\"Tomek\"}\n",
        "isinstance(my_dict, abc.Mapping)"
      ]
    },
    {
      "cell_type": "code",
      "source": [
        "ID = [\n",
        "        (1, 'Tomek'),\n",
        "        (2,'Janek'),\n",
        "        (3,'Franek'),\n",
        "        (4,'Matuesz'),\n",
        "        (5,'Adam'),\n",
        "        (6,'Ania'),\n",
        "        (7,'Dagmara'),\n",
        "        (8,'Robert'),\n",
        "        (9,'Wojtek'),\n",
        "]\n",
        "\n",
        "lista_obecnosci = {id: imie for id,imie in ID}\n",
        "lista_obecnosci"
      ],
      "metadata": {
        "colab": {
          "base_uri": "https://localhost:8080/"
        },
        "id": "yqp-Ob3UBITJ",
        "outputId": "55c18276-40dc-42c9-c453-f19be5f8da30"
      },
      "execution_count": null,
      "outputs": [
        {
          "output_type": "execute_result",
          "data": {
            "text/plain": [
              "{1: 'Tomek',\n",
              " 2: 'Janek',\n",
              " 3: 'Franek',\n",
              " 4: 'Matuesz',\n",
              " 5: 'Adam',\n",
              " 6: 'Ania',\n",
              " 7: 'Dagmara',\n",
              " 8: 'Robert',\n",
              " 9: 'Wojtek'}"
            ]
          },
          "metadata": {},
          "execution_count": 6
        }
      ]
    },
    {
      "cell_type": "code",
      "source": [
        "import sys\n",
        "import re \n",
        "WORD_RE = re.compile('\\w+')\n",
        "index = {}\n",
        "with open(sys.argv[1],encoding='utf-8') as fp:\n",
        "    for line_no, line in enumerate(fp,1):\n",
        "        for match in WORD_RE.finditer(line):\n",
        "            word = match.group()\n",
        "            column_no = match.start()+1\n",
        "            location = (line_no, column_no)\n",
        "            occurences = index.get(word,[])\n",
        "            occurences.append(location)\n",
        "            index[word]=occurences\n",
        "for word in sorted(index, key=str.upper):\n",
        "    print(word, index[word])\n",
        "            "
      ],
      "metadata": {
        "id": "WAV5O86BD7gQ"
      },
      "execution_count": null,
      "outputs": []
    },
    {
      "cell_type": "code",
      "source": [
        "class StrKeyDict0(dict):  # <1>\n",
        "\n",
        "    def __missing__(self, key):\n",
        "        if isinstance(key, str):  # <2>\n",
        "            raise KeyError(key)\n",
        "        return self[str(key)]  # <3>\n",
        "\n",
        "    def get(self, key, default=None):\n",
        "        try:\n",
        "            return self[key]  # <4>\n",
        "        except KeyError:\n",
        "            return default  # <5>\n",
        "\n",
        "    def __contains__(self, key):\n",
        "        return key in self.keys() or str(key) in self.keys()  # <6>\n",
        "\n",
        "\n",
        "d = StrKeyDict0([('2','dwa'),('4','cztery')])\n",
        "d.get(1,'Brak klucza')\n",
        "1 in d\n"
      ],
      "metadata": {
        "colab": {
          "base_uri": "https://localhost:8080/"
        },
        "id": "DD8N2RgSKDPc",
        "outputId": "4a2c8e90-dfed-4f05-b1f4-4bc9c34df00d"
      },
      "execution_count": null,
      "outputs": [
        {
          "output_type": "execute_result",
          "data": {
            "text/plain": [
              "False"
            ]
          },
          "metadata": {},
          "execution_count": 18
        }
      ]
    },
    {
      "cell_type": "code",
      "source": [
        "import collections\n",
        "\n",
        "class StrKeyDict1(collections.UserDict):  # <1>\n",
        "\n",
        "    def __missing__(self, key):\n",
        "        if isinstance(key, str):  # <2>\n",
        "            raise KeyError(key)\n",
        "        return self[str(key)]  # <3>\n",
        "\n",
        "    def __contains__(self, key):\n",
        "        return key in self.data\n",
        "    \n",
        "    def __setitem__(self,key,item):\n",
        "        self.data[str(key)] = item\n",
        "    \n",
        "    "
      ],
      "metadata": {
        "id": "dkppSYR4PEQ9"
      },
      "execution_count": null,
      "outputs": []
    },
    {
      "cell_type": "code",
      "source": [
        "import collections\n",
        "from collections import ChainMap\n",
        "import builtins\n",
        "look = ChainMap(locals(),globals(),vars(builtins))\n",
        "look2 = collections.Counter('asdffffghjkl')\n",
        "look2.update(\"aaaaazzzzz\")\n",
        "look2.most_common(3)\n",
        "look"
      ],
      "metadata": {
        "id": "odzoqDL2NPql"
      },
      "execution_count": null,
      "outputs": []
    },
    {
      "cell_type": "code",
      "source": [
        "from types import MappingProxyType\n",
        "d = {1:'a',2:'b'}\n",
        "d_proxy = MappingProxyType(d)\n",
        "d_proxy[2] = 'x' # tak się nie da!\n"
      ],
      "metadata": {
        "id": "dZS3bM3hQw2z"
      },
      "execution_count": null,
      "outputs": []
    },
    {
      "cell_type": "code",
      "source": [
        "z = ['spam','tomek','spam','tomek']\n",
        "print(set(z))\n",
        "list(set(z))\n",
        "\n",
        "# found = len(email1 & email2)\n",
        "# found = len(set(email1).intersection(email2))\n",
        "\n",
        "# found = 0\n",
        "# for n in email1:\n",
        "#     if n in email2:\n",
        "#         found += 1"
      ],
      "metadata": {
        "colab": {
          "base_uri": "https://localhost:8080/"
        },
        "id": "pbhrWfn9SwPD",
        "outputId": "c53547de-c640-4cac-d785-2fbeddb5530c"
      },
      "execution_count": null,
      "outputs": [
        {
          "output_type": "stream",
          "name": "stdout",
          "text": [
            "{'spam', 'tomek'}\n"
          ]
        },
        {
          "output_type": "execute_result",
          "data": {
            "text/plain": [
              "['spam', 'tomek']"
            ]
          },
          "metadata": {},
          "execution_count": 35
        }
      ]
    },
    {
      "cell_type": "code",
      "source": [
        "from dis import dis\n",
        "s = {1}\n",
        "type(s)\n",
        "s.pop()\n",
        "s\n",
        "frozenset(range(10))\n",
        "dis('{1}')\n",
        "dis('set([1])')\n",
        "dis('frozenset(range(10))')"
      ],
      "metadata": {
        "id": "LP3zUNLuVANG"
      },
      "execution_count": null,
      "outputs": []
    },
    {
      "cell_type": "code",
      "source": [
        "from unicodedata import name\n",
        "{chr(i) for i in range(32,256) if 'SIGN' in name(chr(i),'')}\n",
        "\n",
        "# 1000 1x 0,000202s\n",
        "# 10000 10x 0,000140s\n",
        "#...\n",
        "# 10 000 000 10 000x 0,000337s"
      ],
      "metadata": {
        "id": "SwgpxWkBXI_m"
      },
      "execution_count": null,
      "outputs": []
    },
    {
      "cell_type": "markdown",
      "source": [
        "• Znaki, punkty kodowe i reprezentacje bajtowe\n",
        "• Unikalne cechy sekwencji binarnych: bytes, bytearray i memoryview\n",
        "• Kodeki do pełnego kodowania Unicode i starszych zbiorów znaków\n",
        "• Unikanie błędów kodowania i radzenie sobie z nimi\n",
        "• Najlepsze praktyki podczas obsługi plików tekstowych\n",
        "• Pułapka domyślnego kodowania i problemy dotyczące standardowych operacji I/O\n",
        "• Bezpieczne porównania tekstu Unicode dzięki normalizacji\n",
        "• Funkcje narzędziowe do normalizacji, sprowadzania do jednego rejestru i siłowego\n",
        "usuwania znaków diakrytycznych\n",
        "• Właściwe sortowanie tekstów Unicode przy użyciu modułu locale i biblioteki\n",
        "PyUCA\n",
        "• Metadane znaków w bazie danych Unicode\n",
        "• Dwutrybowe interfejsy API, które obsługują typy str i bytes"
      ],
      "metadata": {
        "id": "-Y_kemIDfHtr"
      }
    },
    {
      "cell_type": "code",
      "source": [
        "#print(\"U+0041\") # odpowiednik \\x41 w bajtach\n",
        "\n",
        "kawa = bytes('café',encoding='utf-8')\n",
        "\n",
        "kawa[0]\n",
        "kawa[:1]\n",
        "\n",
        "kawa_arr= bytearray(kawa)\n",
        "kawa_arr[-1:]\n",
        "\n",
        "\n",
        "# s = 'café'\n",
        "# len(s)\n",
        "# b = s.encode('utf-8')\n",
        "# b\n",
        "# len(b)\n",
        "# b.decode('utf-8')"
      ],
      "metadata": {
        "colab": {
          "base_uri": "https://localhost:8080/"
        },
        "id": "K6C5793TfLGI",
        "outputId": "778f52a8-a817-4540-b1f2-a12427234ebb"
      },
      "execution_count": null,
      "outputs": [
        {
          "output_type": "execute_result",
          "data": {
            "text/plain": [
              "bytearray(b'\\xa9')"
            ]
          },
          "metadata": {},
          "execution_count": 59
        }
      ]
    },
    {
      "cell_type": "code",
      "source": [
        "import array\n",
        "\n",
        "number = array.array('h',[-2,-1,0,1,2])\n",
        "dane = bytes(number)\n",
        "dane"
      ],
      "metadata": {
        "colab": {
          "base_uri": "https://localhost:8080/"
        },
        "id": "0eQX7OX7mgyj",
        "outputId": "5db23d83-2f1a-4a5f-fc1f-105050638d9a"
      },
      "execution_count": null,
      "outputs": [
        {
          "output_type": "execute_result",
          "data": {
            "text/plain": [
              "b'\\xfe\\xff\\xff\\xff\\x00\\x00\\x01\\x00\\x02\\x00'"
            ]
          },
          "metadata": {},
          "execution_count": 60
        }
      ]
    },
    {
      "cell_type": "code",
      "source": [
        "import struct \n",
        "fmt = '<3s3sHH'\n",
        "with open('filter.gif','rb') as fp:\n",
        "    img = memoryview(fp.read())\n",
        "\n",
        "header = img[:10]\n",
        "bytes(header)\n",
        "struct.unpack(fmt,header)\n",
        "del header\n",
        "del img"
      ],
      "metadata": {
        "id": "SHE8RHusn62c"
      },
      "execution_count": null,
      "outputs": []
    },
    {
      "cell_type": "code",
      "source": [
        "for codec in ['latin_1','utf-8','utf-16']:\n",
        "    print(codec, 'El Niño'.encode(codec),sep='\\t')\n"
      ],
      "metadata": {
        "colab": {
          "base_uri": "https://localhost:8080/"
        },
        "id": "yznPF2J-q1AW",
        "outputId": "cc833064-2848-4f9a-dccb-e421e0c361d7"
      },
      "execution_count": null,
      "outputs": [
        {
          "output_type": "stream",
          "name": "stdout",
          "text": [
            "latin_1\tb'El Ni\\xf1o'\n",
            "utf-8\tb'El Ni\\xc3\\xb1o'\n",
            "utf-16\tb'\\xff\\xfeE\\x00l\\x00 \\x00N\\x00i\\x00\\xf1\\x00o\\x00'\n"
          ]
        }
      ]
    },
    {
      "cell_type": "code",
      "source": [
        "miasto = 'São Paulo'\n",
        "miasto.encode('utf-8')\n",
        "miasto.encode('utf_16')\n",
        "miasto.encode('iso8859_1')\n",
        "miasto.encode('cp437', errors='ignore')\n",
        "miasto.encode('cp437', errors='replace')\n",
        "miasto.encode('cp437', errors='xmlcharrefreplace')\n"
      ],
      "metadata": {
        "colab": {
          "base_uri": "https://localhost:8080/"
        },
        "id": "sKm9PwdfuFqd",
        "outputId": "ed164be3-f2c4-437c-cba8-654554deb013"
      },
      "execution_count": null,
      "outputs": [
        {
          "output_type": "execute_result",
          "data": {
            "text/plain": [
              "b'S&#227;o Paulo'"
            ]
          },
          "metadata": {},
          "execution_count": 72
        }
      ]
    },
    {
      "cell_type": "code",
      "source": [
        "dane = b'Montr\\xe9al'\n",
        "dane.decode('cp1252')\n",
        "dane.decode('iso8859_7')\n",
        "dane.decode('koi8_r')\n",
        "dane.decode('utf-8', errors='replace')"
      ],
      "metadata": {
        "colab": {
          "base_uri": "https://localhost:8080/",
          "height": 35
        },
        "id": "nlKwQZcsvgP4",
        "outputId": "af8cb6a7-decf-418b-ccfd-894b12911dca"
      },
      "execution_count": null,
      "outputs": [
        {
          "output_type": "execute_result",
          "data": {
            "application/vnd.google.colaboratory.intrinsic+json": {
              "type": "string"
            },
            "text/plain": [
              "'Montr�al'"
            ]
          },
          "metadata": {},
          "execution_count": 77
        }
      ]
    },
    {
      "cell_type": "code",
      "source": [
        "#open('kawa.txt','w',encoding='utf-8').write('café')\n",
        "open('kawa.txt').read()"
      ],
      "metadata": {
        "colab": {
          "base_uri": "https://localhost:8080/",
          "height": 35
        },
        "id": "0p-ASUq3zUCD",
        "outputId": "c7abcae7-51e6-4a7f-8c7d-8593771f521b"
      },
      "execution_count": null,
      "outputs": [
        {
          "output_type": "execute_result",
          "data": {
            "application/vnd.google.colaboratory.intrinsic+json": {
              "type": "string"
            },
            "text/plain": [
              "'café'"
            ]
          },
          "metadata": {},
          "execution_count": 79
        }
      ]
    },
    {
      "cell_type": "markdown",
      "source": [
        "Normalizacje Unicode w celu rozsądniejszego porównywania"
      ],
      "metadata": {
        "id": "lfKhhvkW8A-4"
      }
    },
    {
      "cell_type": "code",
      "source": [
        "from unicodedata import normalize\n",
        "\n",
        "s1 = 'café'\n",
        "s2 = 'cafe\\u0301'\n",
        "len(s1),len(s2)\n",
        "s1 == s2\n",
        "len(normalize('NFC',s1)),len(normalize('NFC',s2))\n",
        "normalize('NFC',s1) == normalize('NFC',s2)\n",
        "len(normalize('NFD',s1)),len(normalize('NFD',s2))\n",
        "# print(normalize('NFC',s1))\n",
        "# print(normalize('NFC',s2))"
      ],
      "metadata": {
        "colab": {
          "base_uri": "https://localhost:8080/"
        },
        "id": "W0rGYlus8BjO",
        "outputId": "3520028b-8b7a-4174-881d-684861b27cf0"
      },
      "execution_count": null,
      "outputs": [
        {
          "output_type": "stream",
          "name": "stdout",
          "text": [
            "café\n",
            "café\n"
          ]
        }
      ]
    },
    {
      "cell_type": "code",
      "source": [
        "from unicodedata import normalize,name\n",
        "\n",
        "ohm = '\\u2126'\n",
        "name(ohm)\n",
        "ohm_c = normalize('NFC',ohm)\n",
        "ohm_c\n",
        "ohm == ohm_c\n",
        "normalize('NFC',ohm) == normalize('NFC',ohm_c)"
      ],
      "metadata": {
        "colab": {
          "base_uri": "https://localhost:8080/"
        },
        "id": "CtlWkDPI_c94",
        "outputId": "9c9897f6-bd1d-478c-ba85-62d550e11f5a"
      },
      "execution_count": null,
      "outputs": [
        {
          "output_type": "execute_result",
          "data": {
            "text/plain": [
              "True"
            ]
          },
          "metadata": {},
          "execution_count": 93
        }
      ]
    },
    {
      "cell_type": "code",
      "source": [
        "from unicodedata import normalize,name\n",
        "polowa = '½'\n",
        "normalize('NFKC',polowa)"
      ],
      "metadata": {
        "colab": {
          "base_uri": "https://localhost:8080/",
          "height": 35
        },
        "id": "-rByHDWpAsLX",
        "outputId": "1490f323-dd0c-4fd4-cbfa-528441476481"
      },
      "execution_count": null,
      "outputs": [
        {
          "output_type": "execute_result",
          "data": {
            "application/vnd.google.colaboratory.intrinsic+json": {
              "type": "string"
            },
            "text/plain": [
              "'1⁄2'"
            ]
          },
          "metadata": {},
          "execution_count": 94
        }
      ]
    },
    {
      "cell_type": "code",
      "source": [
        "import locale\n",
        "\n",
        "locale.setlocale(locale.LC_COLLATE,'pt_BR.UTF-8')\n",
        "\n",
        "fruits = ['caju', 'atemoia', 'cajá', 'açaí', 'acerola']\n",
        "\n",
        "sorted_fruits = sorted(fruits,key=locale.strxfrm)\n",
        "\n",
        "print(sorted_fruits)\n"
      ],
      "metadata": {
        "id": "WBDlg9kuJ682"
      },
      "execution_count": null,
      "outputs": []
    },
    {
      "cell_type": "code",
      "source": [
        "def factorial(n):\n",
        "    '''zwraca n!'''\n",
        "    return 1 if n < 2 else n * factorial(n-1)\n",
        "\n",
        "\n",
        "dir(factorial)\n",
        "\n",
        "# factorial(42)\n",
        "# factorial.__doc__\n",
        "# type(factorial)\n",
        "# help(factorial)\n",
        "# fact = factorial\n",
        "# fact(5)\n",
        "#list(map(fact,range(11)))\n",
        "#[fact(n) for n in range(11)]\n",
        "#list(map(factorial,filter(lambda n: n% 2,range(11))))\n",
        "# [factorial(n) for n in range(11) if n % 2]\n"
      ],
      "metadata": {
        "colab": {
          "base_uri": "https://localhost:8080/"
        },
        "id": "gLUhCaYaOca7",
        "outputId": "93da504d-37d5-4bf7-c55b-3b376de0c404"
      },
      "execution_count": null,
      "outputs": [
        {
          "output_type": "execute_result",
          "data": {
            "text/plain": [
              "['__annotations__',\n",
              " '__call__',\n",
              " '__class__',\n",
              " '__closure__',\n",
              " '__code__',\n",
              " '__defaults__',\n",
              " '__delattr__',\n",
              " '__dict__',\n",
              " '__dir__',\n",
              " '__doc__',\n",
              " '__eq__',\n",
              " '__format__',\n",
              " '__ge__',\n",
              " '__get__',\n",
              " '__getattribute__',\n",
              " '__globals__',\n",
              " '__gt__',\n",
              " '__hash__',\n",
              " '__init__',\n",
              " '__init_subclass__',\n",
              " '__kwdefaults__',\n",
              " '__le__',\n",
              " '__lt__',\n",
              " '__module__',\n",
              " '__name__',\n",
              " '__ne__',\n",
              " '__new__',\n",
              " '__qualname__',\n",
              " '__reduce__',\n",
              " '__reduce_ex__',\n",
              " '__repr__',\n",
              " '__setattr__',\n",
              " '__sizeof__',\n",
              " '__str__',\n",
              " '__subclasshook__']"
            ]
          },
          "metadata": {},
          "execution_count": 116
        }
      ]
    },
    {
      "cell_type": "code",
      "source": [
        "# from functools import reduce\n",
        "# from operator import add\n",
        "\n",
        "# reduce(add,range(100))\n",
        "\n",
        "sum(range(100))\n"
      ],
      "metadata": {
        "colab": {
          "base_uri": "https://localhost:8080/"
        },
        "id": "Xo_uX23GShaz",
        "outputId": "11b4efbf-355c-443f-885a-343219cff15b"
      },
      "execution_count": null,
      "outputs": [
        {
          "output_type": "execute_result",
          "data": {
            "text/plain": [
              "4950"
            ]
          },
          "metadata": {},
          "execution_count": 110
        }
      ]
    },
    {
      "cell_type": "code",
      "source": [
        "fruits = ['caju', 'atemoia', 'cajá', 'açaí', 'acerola']\n",
        "sorted(fruits, key=lambda word: word[::-1])\n"
      ],
      "metadata": {
        "colab": {
          "base_uri": "https://localhost:8080/"
        },
        "id": "PTCO9JSeVCNC",
        "outputId": "0426d2ca-bcb7-4da3-ee77-6cca136ccbdf"
      },
      "execution_count": null,
      "outputs": [
        {
          "output_type": "execute_result",
          "data": {
            "text/plain": [
              "['atemoia', 'acerola', 'caju', 'cajá', 'açaí']"
            ]
          },
          "metadata": {},
          "execution_count": 111
        }
      ]
    },
    {
      "cell_type": "code",
      "source": [
        "import random\n",
        "\n",
        "class Lotek:\n",
        "    \n",
        "    def __init__(self,items):\n",
        "        self._items = list(items)\n",
        "        random.shuffle(self._items)\n",
        "    \n",
        "    def pick(self):\n",
        "        try:\n",
        "            return self._items.pop()\n",
        "        except IndexError:\n",
        "            raise LookupError('Pusta lista!!!')\n",
        "    \n",
        "    def __call__(self):\n",
        "        return self.pick()\n",
        "\n",
        "\n",
        "Dlotek = Lotek(range(1,49))\n",
        "#Dlotek.pick()\n",
        "Dlotek()\n",
        "callable(Dlotek)"
      ],
      "metadata": {
        "colab": {
          "base_uri": "https://localhost:8080/"
        },
        "id": "XDe7P5jfWscF",
        "outputId": "6eab44a5-b26a-4f67-f6f6-c30ac39c0724"
      },
      "execution_count": null,
      "outputs": [
        {
          "output_type": "execute_result",
          "data": {
            "text/plain": [
              "True"
            ]
          },
          "metadata": {},
          "execution_count": 115
        }
      ]
    },
    {
      "cell_type": "code",
      "source": [
        " class C:\n",
        "    pass\n",
        "\n",
        "\n",
        "obj = C()\n",
        "\n",
        "def f():\n",
        "    pass\n",
        "\n",
        "sorted(set(dir(f)) - set(dir(obj)))\n"
      ],
      "metadata": {
        "colab": {
          "base_uri": "https://localhost:8080/"
        },
        "id": "JjuAkxO9ZxFc",
        "outputId": "b5355f36-6c58-4574-8f09-6d0c28da3ca1"
      },
      "execution_count": null,
      "outputs": [
        {
          "output_type": "execute_result",
          "data": {
            "text/plain": [
              "['__annotations__',\n",
              " '__call__',\n",
              " '__closure__',\n",
              " '__code__',\n",
              " '__defaults__',\n",
              " '__get__',\n",
              " '__globals__',\n",
              " '__kwdefaults__',\n",
              " '__name__',\n",
              " '__qualname__']"
            ]
          },
          "metadata": {},
          "execution_count": 117
        }
      ]
    },
    {
      "cell_type": "code",
      "source": [
        "def tag(name,*content,cls=None ,**attrs):\n",
        "    if cls is not None:\n",
        "        attrs['class'] = cls\n",
        "    if attrs:\n",
        "        attr_str = ''.join(' %s=\"%s\"' % (attr,value)\n",
        "                            for attr,value\n",
        "                           in sorted(attrs.items()))\n",
        "    else:\n",
        "        attr_str = ''\n",
        "    if content:\n",
        "        return '\\n'.join('<%s%s>%s</%s>'%(name,attr_str,c,name) for c in content)\n",
        "    else:\n",
        "        return '<%s%s />' % (name, attr_str)\n",
        "\n",
        "\n",
        "tag('p',\"witaj\",\"World\", cls='sidebar')\n",
        "obraz = {'name':'img','title':'Kosmonauta','src':'filter.gif','cls':'framed'}\n",
        "tag(**obraz)\n",
        "\n",
        "\n",
        "def f(a,*,b):\n",
        "    return a,b\n",
        "\n",
        "\n",
        "f(1,b=2)"
      ],
      "metadata": {
        "colab": {
          "base_uri": "https://localhost:8080/"
        },
        "id": "WeHF8Lu8bR8X",
        "outputId": "d349c5b9-f2ff-4dcc-efa8-75b585918007"
      },
      "execution_count": null,
      "outputs": [
        {
          "output_type": "execute_result",
          "data": {
            "text/plain": [
              "(1, 2)"
            ]
          },
          "metadata": {},
          "execution_count": 127
        }
      ]
    }
  ]
}