{
  "nbformat": 4,
  "nbformat_minor": 0,
  "metadata": {
    "colab": {
      "name": "dz_pierwszy.ipynb",
      "provenance": [],
      "collapsed_sections": []
    },
    "kernelspec": {
      "name": "python3",
      "display_name": "Python 3"
    },
    "language_info": {
      "name": "python"
    }
  },
  "cells": [
    {
      "cell_type": "code",
      "source": [
        "__getitem__\n"
      ],
      "metadata": {
        "id": "mv6DsLze3qv7"
      },
      "execution_count": null,
      "outputs": []
    },
    {
      "cell_type": "markdown",
      "source": [
        "Nazwy metod specjalnych pozwalają naszym obiektom na implementację i obsługę\n",
        "podstawowych konstrukcji języka oraz interakcję z nimi. Przykładami podstawowych\n",
        "konstrukcji języka są:\n",
        "• iteracja\n",
        "• kolekcje\n",
        "• dostęp do atrybutów\n",
        "• przeciążanie operatorów\n",
        "• wywoływanie funkcji i metod\n",
        "• tworzenie i niszczenie obiektów\n",
        "• reprezentacja i formatowanie łańcuchów\n",
        "• konteksty zarządzane (tj. bloki with)"
      ],
      "metadata": {
        "id": "UenZCtd49x1L"
      }
    },
    {
      "cell_type": "code",
      "source": [
        "import collections\n",
        "from random import choice\n",
        "\n",
        "Card = collections.namedtuple('Card',['rank','suit'])\n",
        "\n",
        "class Talia:\n",
        "  ranks = [str(n) for n in range(2,11)] + list('JQKA')\n",
        "  suits = 'spades diamonds clubs hearts'.split()\n",
        "\n",
        "  def __init__(self):\n",
        "    self._cards = [Card(rank,suit) for suit in self.suits\n",
        "                                     for rank in self.ranks]\n",
        "  \n",
        "  def __len__(self):\n",
        "    return len(self._cards)\n",
        "  \n",
        "  def __getitem__(self,position):\n",
        "    return self._cards[position]\n",
        "\n",
        "\n",
        "karta = Card('7','hearts')\n",
        "karta\n",
        "\n",
        "deck = Talia()\n",
        "len(deck)\n",
        "deck[0]\n",
        "deck[-1]\n",
        "choice(deck)\n",
        "deck[12::13]\n",
        "# for card in deck:\n",
        "#   print(card)\n",
        "\n",
        "# for card in reversed(deck):\n",
        "#   print(card)\n",
        "\n",
        "Card(\"A\",'hearts') in deck\n",
        "\n",
        "kolory = dict(spades=3,hearts=2,diamonds=1,clubs=0)\n",
        "\n",
        "def najw(card):\n",
        "  wartosc = Talia.ranks.index(card.rank)\n",
        "  return wartosc * len(kolory) + kolory[card.suit]\n",
        "\n",
        "for card in sorted(deck, key=najw):\n",
        "  print(card)"
      ],
      "metadata": {
        "colab": {
          "base_uri": "https://localhost:8080/"
        },
        "id": "v1vpWhPC91BZ",
        "outputId": "7a3bfb22-cbed-4348-e0f1-0e8240f1cac8"
      },
      "execution_count": null,
      "outputs": [
        {
          "output_type": "stream",
          "name": "stdout",
          "text": [
            "Card(rank='2', suit='clubs')\n",
            "Card(rank='2', suit='diamonds')\n",
            "Card(rank='2', suit='hearts')\n",
            "Card(rank='2', suit='spades')\n",
            "Card(rank='3', suit='clubs')\n",
            "Card(rank='3', suit='diamonds')\n",
            "Card(rank='3', suit='hearts')\n",
            "Card(rank='3', suit='spades')\n",
            "Card(rank='4', suit='clubs')\n",
            "Card(rank='4', suit='diamonds')\n",
            "Card(rank='4', suit='hearts')\n",
            "Card(rank='4', suit='spades')\n",
            "Card(rank='5', suit='clubs')\n",
            "Card(rank='5', suit='diamonds')\n",
            "Card(rank='5', suit='hearts')\n",
            "Card(rank='5', suit='spades')\n",
            "Card(rank='6', suit='clubs')\n",
            "Card(rank='6', suit='diamonds')\n",
            "Card(rank='6', suit='hearts')\n",
            "Card(rank='6', suit='spades')\n",
            "Card(rank='7', suit='clubs')\n",
            "Card(rank='7', suit='diamonds')\n",
            "Card(rank='7', suit='hearts')\n",
            "Card(rank='7', suit='spades')\n",
            "Card(rank='8', suit='clubs')\n",
            "Card(rank='8', suit='diamonds')\n",
            "Card(rank='8', suit='hearts')\n",
            "Card(rank='8', suit='spades')\n",
            "Card(rank='9', suit='clubs')\n",
            "Card(rank='9', suit='diamonds')\n",
            "Card(rank='9', suit='hearts')\n",
            "Card(rank='9', suit='spades')\n",
            "Card(rank='10', suit='clubs')\n",
            "Card(rank='10', suit='diamonds')\n",
            "Card(rank='10', suit='hearts')\n",
            "Card(rank='10', suit='spades')\n",
            "Card(rank='J', suit='clubs')\n",
            "Card(rank='J', suit='diamonds')\n",
            "Card(rank='J', suit='hearts')\n",
            "Card(rank='J', suit='spades')\n",
            "Card(rank='Q', suit='clubs')\n",
            "Card(rank='Q', suit='diamonds')\n",
            "Card(rank='Q', suit='hearts')\n",
            "Card(rank='Q', suit='spades')\n",
            "Card(rank='K', suit='clubs')\n",
            "Card(rank='K', suit='diamonds')\n",
            "Card(rank='K', suit='hearts')\n",
            "Card(rank='K', suit='spades')\n",
            "Card(rank='A', suit='clubs')\n",
            "Card(rank='A', suit='diamonds')\n",
            "Card(rank='A', suit='hearts')\n",
            "Card(rank='A', suit='spades')\n"
          ]
        }
      ]
    },
    {
      "cell_type": "markdown",
      "source": [
        "collections.namedtuple służy do konstrukcji prostej klasy reprezentującej poszczególne karty.\n",
        "nie piszemy wywołania metody specjalnej w stylu Talia.__len__()\n",
        "a piszemy ją opakowując klasę - len(Talia)"
      ],
      "metadata": {
        "id": "WOIzcsLsByEx"
      }
    },
    {
      "cell_type": "markdown",
      "source": [
        "Reprezentacja tekstowa/\n",
        "bajtowa __repr__, __str__, __format__, __bytes__\n",
        "Konwersja na liczbę __abs__, __bool__, __complex__, __int__, __float__,\n",
        "__hash__, __index__\n",
        "Emulacja kolekcji __len__, __getitem__, __setitem__, __delitem__,\n",
        "__contains__ Iteracja __iter__, __reversed__, __next__\n",
        "Emulacja wywoływalności __call__\n",
        "Zarządzanie kontekstem __enter__, __exit__\n",
        "Tworzenie i niszczenie wystąpienia __new__, __init__, __del__\n",
        "Zarządzanie atrybutami __getattr__, __getattribute__, __setattr__,\n",
        "__delattr__, __dir__\n",
        "Deskryptory atrybutów __get__, __set__, __delete__ \n",
        "Usługi klasy __prepare__, __instancecheck__, __subclasscheck__\n",
        "\n",
        "Jednoargumentowe\n",
        "operatory numeryczne\n",
        "__neg__ -, __pos__ +, __abs__ abs()\n",
        "Bogate operatory\n",
        "porównania\n",
        "__lt__ >, __le__ <=, __eq__ ==, __ne__ !=, __gt__ >,\n",
        "__ge__ >=\n",
        "Operatory\n",
        "arytmetyczne\n",
        "__add__ +, __sub__ -, __mul__ *, __truediv__ /,\n",
        "__floordiv__ //, __mod__ %, __divmod__ divmod() ,\n",
        "__pow__ ** lub pow(), __round__ round()\n",
        "Odwrócone operatory\n",
        "arytmetyczne\n",
        "__radd__, __rsub__, __rmul__, __rtruediv__,\n",
        "__rfloordiv__, __rmod__, __rdivmod__, __rpow__\n",
        "Złożone arytmetyczne\n",
        "operatory przypisania\n",
        "__iadd__, __isub__, __imul__, __itruediv__,\n",
        "__ifloordiv__, __imod__, __ipow__\n",
        "Operatory bitowe\n",
        "__invert__ ~, __lshift__ <<, __rshift__ >>, __and__ &,\n",
        "__or__ |, __xor__ ^\n",
        "Odwrócone operatory\n",
        "bitowe\n",
        "__rlshift__, __rrshift__, __rand__, __rxor__, __ror__\n",
        "Złożone bitowe\n",
        "operatory przypisania\n",
        "__ilshift__, __irshift__, __iand__, __ixor__, __ior__\n",
        "\n",
        "\n"
      ],
      "metadata": {
        "id": "bAg7RgaSKsgy"
      }
    },
    {
      "cell_type": "code",
      "source": [
        "import array\n",
        "\n",
        "# symbols = '$¢£¥€¤'\n",
        "# codes = []\n",
        "# for s in symbols:\n",
        "#     codes.append(ord(s))\n",
        "\n",
        "# codes\n",
        "\n",
        "# symbols = '$¢£¥€¤'\n",
        "# codes = [ord(symbol) for symbol in symbols]\n",
        "\n",
        "# codes\n",
        "\n",
        "# symbols = '$¢£¥€¤'\n",
        "# codes = [ord(symbol) for symbol in symbols if ord(symbol) > 127]\n",
        "\n",
        "# codes\n",
        "\n",
        "symbols = '$¢£¥€¤'\n",
        "codes = list(filter(lambda c: c > 127, map(ord, symbols)))\n",
        "tuple(ord(symbol) for symbol in symbols)\n",
        "array.array(\"I\", (ord(s) for s in symbols))\n",
        "array\n",
        "\n",
        "\n",
        "# codes\n"
      ],
      "metadata": {
        "colab": {
          "base_uri": "https://localhost:8080/"
        },
        "id": "qYNyM9LyK7Zf",
        "outputId": "d6e95b99-c31f-46c9-d6e1-8711af7c05bf"
      },
      "execution_count": null,
      "outputs": [
        {
          "output_type": "execute_result",
          "data": {
            "text/plain": [
              "<module 'array' (built-in)>"
            ]
          },
          "metadata": {},
          "execution_count": 50
        }
      ]
    },
    {
      "cell_type": "markdown",
      "source": [
        "Wyrażenia listowe mogą generować listy na podstawie produktu kartezjańskiego dwóch\n",
        "obiektów iterowalnych lub większej ich liczby. Elementy, które składają się na produkt kartezjański\n",
        "to krotki powstałe z elementów pochodzących z każdego wejściowego obiektu\n",
        "iterowalnego."
      ],
      "metadata": {
        "id": "1QYGxsCGWpxU"
      }
    },
    {
      "cell_type": "code",
      "source": [
        "colors = ['black','white']\n",
        "sizes = ['S','M','L']\n",
        "#tshirts = [(color,size) for color in colors for size in sizes]\n",
        "#tshirts = [(color,size) for size in sizes for color in colors]\n",
        "\n",
        "for tshirt in ('%s %s'%(c,s) for c in colors for s in sizes):\n",
        "    print(tshirt)\n",
        "\n",
        "# for color in colors:\n",
        "#     for size in sizes:\n",
        "#         print((color,size))"
      ],
      "metadata": {
        "colab": {
          "base_uri": "https://localhost:8080/"
        },
        "id": "JQtFDyoLWpZM",
        "outputId": "c0f57ede-0722-41db-dd8b-314aabca09a7"
      },
      "execution_count": null,
      "outputs": [
        {
          "output_type": "stream",
          "name": "stdout",
          "text": [
            "black S\n",
            "black M\n",
            "black L\n",
            "white S\n",
            "white M\n",
            "white L\n"
          ]
        }
      ]
    },
    {
      "cell_type": "markdown",
      "source": [
        "Krotki mają podwójną rolę: mogą służyć jako niezmienne\n",
        "\n",
        "---\n",
        "\n",
        "\n",
        "listy, a także jako rekordy bez nazw pól."
      ],
      "metadata": {
        "id": "79vf3GzWbtuy"
      }
    },
    {
      "cell_type": "code",
      "source": [
        "coord = (33.9425,-118.408056)\n",
        "city, year,pop,chg,area = ('Warsaw', 2019, 98765, 0.66,2234)\n",
        "loty = [('USA','54763'), ('RUS','76432'),('TKO','84323')]\n",
        "\n",
        "# for pas in sorted(loty):\n",
        "#     print('%s --> %s' % pas)\n",
        "\n",
        "# for kraj, _ in loty:\n",
        "#     print(kraj)\n",
        "\n",
        "#lat,longit = coord\n",
        "\n",
        "*a,b,c = range(9)\n",
        "a,b,c"
      ],
      "metadata": {
        "colab": {
          "base_uri": "https://localhost:8080/"
        },
        "id": "7wan4elxbxEY",
        "outputId": "201b53ce-6895-48bc-b463-9de2d50db1b4"
      },
      "execution_count": null,
      "outputs": [
        {
          "output_type": "execute_result",
          "data": {
            "text/plain": [
              "([0, 1, 2, 3, 4, 5, 6], 7, 8)"
            ]
          },
          "metadata": {},
          "execution_count": 70
        }
      ]
    },
    {
      "cell_type": "markdown",
      "source": [
        "Rozpakowywanie zagnieżdzonych krotek"
      ],
      "metadata": {
        "id": "400MjVgQhaYl"
      }
    },
    {
      "cell_type": "code",
      "source": [
        "pip install fmt\n"
      ],
      "metadata": {
        "colab": {
          "base_uri": "https://localhost:8080/"
        },
        "id": "vtuMomJSi3ua",
        "outputId": "2416dd8d-020b-456b-8c97-48b315e52d67"
      },
      "execution_count": null,
      "outputs": [
        {
          "output_type": "stream",
          "name": "stdout",
          "text": [
            "Collecting fmt\n",
            "  Downloading fmt-0.3.1-py2.py3-none-any.whl (8.1 kB)\n",
            "Installing collected packages: fmt\n",
            "Successfully installed fmt-0.3.1\n"
          ]
        }
      ]
    },
    {
      "cell_type": "code",
      "source": [
        "# (a,b,c,(d,e))\n",
        "from collections import namedtuple\n",
        "\n",
        "Miasto = namedtuple('Miasto','miasto kraj liczba kord')\n",
        "tokyo = Miasto('Tokyo', 'JP', 36.933,(35.689722, 139.691667))\n",
        "\n",
        "tokyo\n",
        "tokyo.liczba\n",
        "tokyo.kord\n",
        "tokyo[1]\n",
        "Miasto._fields\n",
        "\n",
        "data = ('Sao Paulo', 'BR', 19.649, (-23.547778, -46.635833))\n",
        "paulo = Miasto._make(data)\n",
        "paulo._asdict()\n",
        "for k,v in paulo._asdict().items():\n",
        "    print(k + \":\", v)\n",
        "\n",
        "# areas=[\n",
        "# ('Tokyo', 'JP', 36.933, (35.689722, 139.691667)),\n",
        "# ('Delhi NCR', 'IN', 21.935, (28.613889, 77.208889)),\n",
        "# ('Mexico City', 'MX', 20.142, (19.433333, -99.133333)),\n",
        "# ('New York-Newark', 'US', 20.104, (40.808611, -74.020386)),\n",
        "# ('Sao Paulo', 'BR', 19.649, (-23.547778, -46.635833)),\n",
        "# ]\n",
        "\n",
        "# print('{:15} | {:^9} | {:^9}'.format('miasto','lat.','long.'))\n",
        "# fmt = '{:15} | {:9.4f} | {:9.4f}'\n",
        "\n",
        "\n",
        "# for m,k,l,(lat,lon) in areas:\n",
        "#     if lat <= 0:\n",
        "#         print(fmt.format(m,lat,lon))\n",
        "\n",
        "\n",
        "l = [11,22,33,44,55,66]\n",
        "l[:2]\n",
        "l[2:]\n",
        "\n",
        "s = 'rower'\n",
        "s[::3]\n",
        "s[::-1]\n",
        "s[::-2]\n"
      ],
      "metadata": {
        "colab": {
          "base_uri": "https://localhost:8080/",
          "height": 105
        },
        "id": "XohLqKkyhdvo",
        "outputId": "f478b7d9-ad26-4f48-ff0a-8a71c748f290"
      },
      "execution_count": null,
      "outputs": [
        {
          "output_type": "stream",
          "name": "stdout",
          "text": [
            "miasto: Sao Paulo\n",
            "kraj: BR\n",
            "liczba: 19.649\n",
            "kord: (-23.547778, -46.635833)\n"
          ]
        },
        {
          "output_type": "execute_result",
          "data": {
            "application/vnd.google.colaboratory.intrinsic+json": {
              "type": "string"
            },
            "text/plain": [
              "'rwr'"
            ]
          },
          "metadata": {},
          "execution_count": 95
        }
      ]
    },
    {
      "cell_type": "code",
      "source": [
        "text = \"\"\"\n",
        "0.....6.................................40........52...55........\n",
        "1909  Pimoroni PiBrella                 $17.50       3      $52.5\n",
        "1489  6mm Tactile Switch x20             $4.95       2      $9.9\n",
        "1510  Panavise Jr. - PV-201             $28.00       1      $28.\n",
        "1601  PiTFT Mini Kit 320x240            $34.95       1      $34.95\n",
        "\"\"\"\n",
        "ID = slice(0,6)\n",
        "OPIS = slice(6,40)\n",
        "CENA_J = slice(40,52)\n",
        "ILOSC = slice(52,55)\n",
        "TOTAL = slice(55, None)\n",
        "\n",
        "line = text.split('\\n')[2:]\n",
        "for i in line:\n",
        "    print(i[CENA_J],i[OPIS])\n",
        "\n",
        "\n",
        "\n",
        "# lista[a:b, c:d]\n",
        "# lista[i,...] == lista[i,:,:,:]\n",
        "\n"
      ],
      "metadata": {
        "colab": {
          "base_uri": "https://localhost:8080/"
        },
        "id": "gW-xe_4Lx36m",
        "outputId": "6216ee35-f778-492c-faf2-ad1fdc25a106"
      },
      "execution_count": null,
      "outputs": [
        {
          "output_type": "stream",
          "name": "stdout",
          "text": [
            "$17.50       Pimoroni PiBrella                 \n",
            " $4.95       6mm Tactile Switch x20            \n",
            "$28.00       Panavise Jr. - PV-201             \n",
            "$34.95       PiTFT Mini Kit 320x240            \n",
            " \n"
          ]
        }
      ]
    },
    {
      "cell_type": "code",
      "source": [
        "l = list(range(10))\n",
        "l[2:5] = [20,30]\n",
        "del l[5:7]\n",
        "l[3::2] = [11,22]\n",
        "# l[2:5] = 100 musi być obiekt iterowalny\n",
        "k = [1,2,3]\n",
        "k * 5\n",
        "5 * '123'\n"
      ],
      "metadata": {
        "colab": {
          "base_uri": "https://localhost:8080/",
          "height": 35
        },
        "id": "K7_GmiGI4lvX",
        "outputId": "70cf8bba-1434-4c5e-a60d-d51cfa4fe78d"
      },
      "execution_count": null,
      "outputs": [
        {
          "output_type": "execute_result",
          "data": {
            "application/vnd.google.colaboratory.intrinsic+json": {
              "type": "string"
            },
            "text/plain": [
              "'123123123123123'"
            ]
          },
          "metadata": {},
          "execution_count": 105
        }
      ]
    },
    {
      "cell_type": "code",
      "source": [
        "#dziwny_board = [['_'] * 3] * 3\n",
        "#board = [['_'] * 3 for i in range(3)]\n",
        "\n",
        "\n",
        "#board[1][2] = 'X'\n",
        "#dziwny_board[1][2] = 'X'\n",
        "# board \n",
        "#dziwny_board\n",
        "\n",
        "row = ['_'] * 3\n",
        "board = []\n",
        "for i in range(3):\n",
        "    board.append(row)\n",
        "\n",
        "board[1][2] = 'X'\n",
        "#print(board[1][2])\n",
        "\n",
        "\n",
        "# board = []\n",
        "# for i in range(3):\n",
        "#     row = ['_'] * 3\n",
        "#     board.append(row)\n",
        "\n",
        "# board[1][2] = 'X'\n",
        "# board\n"
      ],
      "metadata": {
        "colab": {
          "base_uri": "https://localhost:8080/"
        },
        "id": "g3pefq8L62C-",
        "outputId": "0bff6592-0373-4970-d4a2-13d2ba72b1d1"
      },
      "execution_count": null,
      "outputs": [
        {
          "output_type": "stream",
          "name": "stdout",
          "text": [
            "X\n"
          ]
        }
      ]
    },
    {
      "cell_type": "code",
      "source": [
        "# __iadd__\n",
        "# __add__\n",
        "# a += b\n",
        "# przy iadd = a.extend(b)\n",
        "import dis\n",
        "\n",
        "\n",
        "l = [1,2,3]\n",
        "print(id(l))\n",
        "\n",
        "l *= 2\n",
        "\n",
        "print(id(l))\n",
        "\n",
        "t = (1,2,3)\n",
        "print(id(t))\n",
        "t *= 2\n",
        "print(id(t))\n",
        "\n",
        "dis.dis('s[a] += b')"
      ],
      "metadata": {
        "colab": {
          "base_uri": "https://localhost:8080/"
        },
        "id": "mCv92-oR-LIB",
        "outputId": "c719bf2e-f4ec-46fd-e26d-e8b00fc03a6f"
      },
      "execution_count": null,
      "outputs": [
        {
          "output_type": "stream",
          "name": "stdout",
          "text": [
            "140534945617712\n",
            "140534945617712\n",
            "140534953241168\n",
            "140534953254256\n",
            "  1           0 LOAD_NAME                0 (s)\n",
            "              2 LOAD_NAME                1 (a)\n",
            "              4 DUP_TOP_TWO\n",
            "              6 BINARY_SUBSCR\n",
            "              8 LOAD_NAME                2 (b)\n",
            "             10 INPLACE_ADD\n",
            "             12 ROT_THREE\n",
            "             14 STORE_SUBSCR\n",
            "             16 LOAD_CONST               0 (None)\n",
            "             18 RETURN_VALUE\n"
          ]
        }
      ]
    },
    {
      "cell_type": "code",
      "source": [
        "owoce = ['banan','jabłko','porzeczka','mango']\n",
        "sorted(owoce)\n",
        "owoce\n",
        "sorted(owoce, reverse=True)\n",
        "sorted(owoce, key=len)\n",
        "sorted(owoce, key=len,reverse=True)\n",
        "print(owoce.sort())\n",
        "owoce"
      ],
      "metadata": {
        "colab": {
          "base_uri": "https://localhost:8080/"
        },
        "id": "gcEkp9TdFRu_",
        "outputId": "7abc7624-4518-4981-8da3-0b6f2e8d6230"
      },
      "execution_count": null,
      "outputs": [
        {
          "output_type": "stream",
          "name": "stdout",
          "text": [
            "None\n"
          ]
        },
        {
          "output_type": "execute_result",
          "data": {
            "text/plain": [
              "['banan', 'jabłko', 'mango', 'porzeczka']"
            ]
          },
          "metadata": {},
          "execution_count": 146
        }
      ]
    },
    {
      "cell_type": "code",
      "source": [
        "from array import array\n",
        "from random import random\n",
        "import numpy as np\n",
        "from numpy import savetxt\n",
        "\n",
        "floats = array('d',(random() for i in range(10**7)))\n",
        "floats[-1]\n",
        "#fp = open('liczby.bin', 'wb')\n",
        "np.savetxt('plik.txt',floats,delimiter='')\n",
        "fp.close()\n",
        "# floats2 = array('d')\n",
        "# fp = open('liczby.bin','rb')\n",
        "# floats2.fromfile(fp,10**7)\n",
        "# fp.close()\n",
        "# floats2[-1]\n",
        "# floats == floats2"
      ],
      "metadata": {
        "id": "Bw1BhtfKH9tl"
      },
      "execution_count": null,
      "outputs": []
    },
    {
      "cell_type": "code",
      "source": [
        "import numpy as np\n",
        "\n",
        "a = np.arange(12)\n",
        "type(a)\n",
        "a.shape = 3,4\n",
        "a[2,1]\n",
        "a[:,1]\n",
        "a.transpose()\n",
        "\n"
      ],
      "metadata": {
        "colab": {
          "base_uri": "https://localhost:8080/"
        },
        "id": "FMvmy5HFLaSv",
        "outputId": "1a65cbfc-8259-48fa-ad4f-f795a5dc0b3f"
      },
      "execution_count": null,
      "outputs": [
        {
          "output_type": "execute_result",
          "data": {
            "text/plain": [
              "array([[ 0,  4,  8],\n",
              "       [ 1,  5,  9],\n",
              "       [ 2,  6, 10],\n",
              "       [ 3,  7, 11]])"
            ]
          },
          "metadata": {},
          "execution_count": 160
        }
      ]
    },
    {
      "cell_type": "code",
      "source": [
        "import numpy as np\n",
        "from time import perf_counter as pc\n",
        "\n",
        "floats = np.loadtxt('plik.txt')\n",
        "#floats[-3:]\n",
        "floats *= .5 \n",
        "floats[-3:]\n",
        "t0 = pc(); floats /=3; pc() - t0\n",
        "np.save('floats-10M',floats)\n",
        "floats2 = np.load('floats-10M.npy','r+')\n",
        "floats2 *= 6\n",
        "floats2[-3:]\n"
      ],
      "metadata": {
        "colab": {
          "base_uri": "https://localhost:8080/"
        },
        "id": "vWg4sosWM4lA",
        "outputId": "147d0e1a-bfac-40cc-9d90-7df7ea178ce4"
      },
      "execution_count": null,
      "outputs": [
        {
          "output_type": "execute_result",
          "data": {
            "text/plain": [
              "memmap([0.25464012, 0.11494195, 0.1922472 ])"
            ]
          },
          "metadata": {},
          "execution_count": 181
        }
      ]
    },
    {
      "cell_type": "code",
      "source": [
        "from collections import deque\n",
        "\n",
        "dq = deque(range(10), maxlen=10)\n",
        "dq.rotate(-3)\n",
        "dq.appendleft(-1)\n",
        "dq.extend([11,22,33])\n",
        "dq.extendleft([10,20,30,40])\n",
        "dq\n"
      ],
      "metadata": {
        "colab": {
          "base_uri": "https://localhost:8080/"
        },
        "id": "PpdSzcCFTy9i",
        "outputId": "e02dc08e-266b-43bf-e690-512b2b528ed2"
      },
      "execution_count": null,
      "outputs": [
        {
          "output_type": "execute_result",
          "data": {
            "text/plain": [
              "deque([40, 30, 20, 10, 5, 6, 7, 8, 9, 0])"
            ]
          },
          "metadata": {},
          "execution_count": 188
        }
      ]
    },
    {
      "cell_type": "code",
      "source": [
        ""
      ],
      "metadata": {
        "id": "z3O8PUekOZYL"
      },
      "execution_count": null,
      "outputs": []
    }
  ]
}