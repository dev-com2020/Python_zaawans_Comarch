{
  "nbformat": 4,
  "nbformat_minor": 0,
  "metadata": {
    "colab": {
      "name": "dz_piąty.ipynb",
      "provenance": [],
      "collapsed_sections": []
    },
    "kernelspec": {
      "name": "python3",
      "display_name": "Python 3"
    },
    "language_info": {
      "name": "python"
    }
  },
  "cells": [
    {
      "cell_type": "code",
      "execution_count": null,
      "metadata": {
        "id": "4_ncYbIPEk3P",
        "colab": {
          "base_uri": "https://localhost:8080/"
        },
        "outputId": "9284af70-3fe6-4426-f8cf-a9c17d667647"
      },
      "outputs": [
        {
          "output_type": "stream",
          "name": "stdout",
          "text": [
            "Instacja inst_a jest teraz alpha=333 i beta=777\n"
          ]
        }
      ],
      "source": [
        "class A:\n",
        "    pass\n",
        "\n",
        "class B:\n",
        "    pass\n",
        "\n",
        "inst_a = A()\n",
        "inst_b = B()\n",
        "\n",
        "inst_a.alpha = 333\n",
        "inst_b.beta = 777\n",
        "\n",
        "def merge(ob1,ob2):\n",
        "    ob1.__dict__.update(ob2.__dict__)\n",
        "    return ob1\n",
        "\n",
        "inst_a = merge(inst_a,inst_b)\n",
        "\n",
        "del inst_b\n",
        "\n",
        "sf = \"Instacja inst_a jest teraz alpha=%s i beta=%s\"\n",
        "print(sf % (inst_a.alpha, inst_a.beta))\n",
        "\n"
      ]
    },
    {
      "cell_type": "markdown",
      "source": [
        "# Nowa sekcja"
      ],
      "metadata": {
        "id": "xMITRJMkAXoh"
      }
    },
    {
      "cell_type": "code",
      "source": [
        "class Rodzic(object):\n",
        "    \n",
        "    def _chroniona(self): #_ oznacza _methodName\n",
        "        pass\n",
        "    \n",
        "    def __prywatna(self): #__ oznacza _ClassName_methodName\n",
        "        pass\n",
        "    \n",
        "\n",
        "class Dziecko(Rodzic):\n",
        "    \n",
        "    def f1(self):\n",
        "        self._chroniona()\n",
        "\n",
        "    def f2(self):\n",
        "        self.__prywatna()\n",
        "\n",
        "\n",
        "c = Dziecko()\n"
      ],
      "metadata": {
        "id": "_4na_IW4dSde"
      },
      "execution_count": null,
      "outputs": []
    },
    {
      "cell_type": "code",
      "source": [
        "import abc\n",
        "import random\n",
        "import doctest\n",
        "\n",
        "class Tombola(abc.ABC):\n",
        "\n",
        "    @abc.abstractmethod\n",
        "    def load(self,iterable):\n",
        "        pass\n",
        "\n",
        "    @abc.abstractmethod\n",
        "    def pick(self):\n",
        "        pass\n",
        "    \n",
        "    def loaded(self):\n",
        "        return bool(self.inspect())\n",
        "    \n",
        "    def inspect(self):\n",
        "        items = []\n",
        "        while True:\n",
        "            try:\n",
        "                items.append(self.pick())\n",
        "            except LookupError:\n",
        "                break\n",
        "        self.load(items)\n",
        "        return tuple(sorted(items))\n",
        "\n",
        "\n",
        "class Fake(Tombola):\n",
        "    def pick(self):\n",
        "        return 11\n",
        "\n",
        "class BingoClass(Tombola):\n",
        "    \n",
        "    def __init__(self,items):\n",
        "        self._randomizer = random.SystemRandom()\n",
        "        self._items = []\n",
        "        self.load(items)\n",
        "    \n",
        "    def load(self,items):\n",
        "        self._items.extend(items)\n",
        "        self._randomizer.shuffle(self._items)\n",
        "    \n",
        "    def pick(self):\n",
        "        try:\n",
        "            return self._items.pop()\n",
        "        except IndexError:\n",
        "            raise LookupError('metoda pick z pustego...')\n",
        "    \n",
        "    def __call__(self):\n",
        "        self.pick()\n",
        "\n",
        "\n",
        "\n",
        "class Blower(Tombola):\n",
        "    \n",
        "    def __init__(self,iterable):\n",
        "        self._balls = list(iterable)\n",
        "    \n",
        "    def load(self,iterable):\n",
        "        self._balls.extend(iterable)\n",
        "    \n",
        "    def pick(self):\n",
        "        try:\n",
        "            position = random.randrange(len(self._balls))\n",
        "        except ValueError:\n",
        "            raise LookupError('metoda pick() z pustego BingoClass')\n",
        "        return self._balls.pop(position)\n",
        "\n",
        "    def loaded(self):\n",
        "        return bool(self._balls)\n",
        "    \n",
        "    def inspect(self):\n",
        "        return tuple(sorted(self._balls))\n",
        "    \n",
        "\n",
        "@Tombola.register\n",
        "class TomboLista(list):\n",
        "\n",
        "    def pick(self):\n",
        "        if self:\n",
        "            position = random.randrange(len(self))\n",
        "            return self.pop(position)\n",
        "        else:\n",
        "            raise LookupError('POP z pustego TomboList')\n",
        "    \n",
        "    load = list.extend\n",
        "\n",
        "    def loaded(self):\n",
        "        return bool(self)\n",
        "    \n",
        "    def inspect(self):\n",
        "        return tuple(sorted(self))\n",
        "\n",
        "# Tombola.register(TomboList) - stara wersja!\n",
        "\n",
        "\n",
        "# issubclass(TomboLista,Tombola)\n",
        "# t = TomboLista(range(100))\n",
        "# isinstance(t,Tombola)\n",
        "# TomboLista.__mro__\n",
        "\n",
        "\n",
        "TEST_FILE = 'tombola_test.rst'\n",
        "TEST_MSG = '{0:16} {1.próba:2} testy, {1.niepowodzenie:2} nieudane - {2}'\n",
        "\n",
        "\n",
        "def main(argv):\n",
        "    verbose  = '-v' in argv\n",
        "    real_subclasses = Tombola.__subclasses__()\n",
        "    virtual_subclasses = list(Tombola._abc_registry)\n",
        "\n",
        "    for cls in real_subclasses + virtual_subclasses:\n",
        "        test(cls,verbose)\n",
        "\n",
        "def test(cls,verbose=False):\n",
        "\n",
        "    res = doctest.testfile(\n",
        "        TEST_FILE,\n",
        "        globs={'KonkretnaTombola':cls},\n",
        "        verbose=verbose,\n",
        "        optionflags = doctest.REPORT_ONLY_FIRST_FAILURE\n",
        "        )\n",
        "    tag = 'FAIL' if res.failed else 'OK'\n",
        "    print(TEST_MSG.format(cls.__name__,res,tag))\n",
        "\n",
        "if __name__ == '__main__':\n",
        "    import sys\n",
        "    main(sys.argv)\n"
      ],
      "metadata": {
        "colab": {
          "base_uri": "https://localhost:8080/",
          "height": 322
        },
        "id": "CmJOl7o0fflX",
        "outputId": "4e46f23d-e2dd-4822-add4-f812c4d2ae4c"
      },
      "execution_count": null,
      "outputs": [
        {
          "output_type": "error",
          "ename": "AttributeError",
          "evalue": "ignored",
          "traceback": [
            "\u001b[0;31m---------------------------------------------------------------------------\u001b[0m",
            "\u001b[0;31mAttributeError\u001b[0m                            Traceback (most recent call last)",
            "\u001b[0;32m<ipython-input-8-83997c3b29fc>\u001b[0m in \u001b[0;36m<module>\u001b[0;34m()\u001b[0m\n\u001b[1;32m    127\u001b[0m \u001b[0;32mif\u001b[0m \u001b[0m__name__\u001b[0m \u001b[0;34m==\u001b[0m \u001b[0;34m'__main__'\u001b[0m\u001b[0;34m:\u001b[0m\u001b[0;34m\u001b[0m\u001b[0;34m\u001b[0m\u001b[0m\n\u001b[1;32m    128\u001b[0m     \u001b[0;32mimport\u001b[0m \u001b[0msys\u001b[0m\u001b[0;34m\u001b[0m\u001b[0;34m\u001b[0m\u001b[0m\n\u001b[0;32m--> 129\u001b[0;31m     \u001b[0mmain\u001b[0m\u001b[0;34m(\u001b[0m\u001b[0msys\u001b[0m\u001b[0;34m.\u001b[0m\u001b[0margv\u001b[0m\u001b[0;34m)\u001b[0m\u001b[0;34m\u001b[0m\u001b[0;34m\u001b[0m\u001b[0m\n\u001b[0m",
            "\u001b[0;32m<ipython-input-8-83997c3b29fc>\u001b[0m in \u001b[0;36mmain\u001b[0;34m(argv)\u001b[0m\n\u001b[1;32m    109\u001b[0m     \u001b[0mverbose\u001b[0m  \u001b[0;34m=\u001b[0m \u001b[0;34m'-v'\u001b[0m \u001b[0;32min\u001b[0m \u001b[0margv\u001b[0m\u001b[0;34m\u001b[0m\u001b[0;34m\u001b[0m\u001b[0m\n\u001b[1;32m    110\u001b[0m     \u001b[0mreal_subclasses\u001b[0m \u001b[0;34m=\u001b[0m \u001b[0mTombola\u001b[0m\u001b[0;34m.\u001b[0m\u001b[0m__subclasses__\u001b[0m\u001b[0;34m(\u001b[0m\u001b[0;34m)\u001b[0m\u001b[0;34m\u001b[0m\u001b[0;34m\u001b[0m\u001b[0m\n\u001b[0;32m--> 111\u001b[0;31m     \u001b[0mvirtual_subclasses\u001b[0m \u001b[0;34m=\u001b[0m \u001b[0mlist\u001b[0m\u001b[0;34m(\u001b[0m\u001b[0mTombola\u001b[0m\u001b[0;34m.\u001b[0m\u001b[0m_abc_registry\u001b[0m\u001b[0;34m)\u001b[0m\u001b[0;34m\u001b[0m\u001b[0;34m\u001b[0m\u001b[0m\n\u001b[0m\u001b[1;32m    112\u001b[0m \u001b[0;34m\u001b[0m\u001b[0m\n\u001b[1;32m    113\u001b[0m     \u001b[0;32mfor\u001b[0m \u001b[0mcls\u001b[0m \u001b[0;32min\u001b[0m \u001b[0mreal_subclasses\u001b[0m \u001b[0;34m+\u001b[0m \u001b[0mvirtual_subclasses\u001b[0m\u001b[0;34m:\u001b[0m\u001b[0;34m\u001b[0m\u001b[0;34m\u001b[0m\u001b[0m\n",
            "\u001b[0;31mAttributeError\u001b[0m: type object 'Tombola' has no attribute '_abc_registry'"
          ]
        }
      ]
    },
    {
      "cell_type": "code",
      "source": [
        "class DictNo1(dict):\n",
        "    def __setitem__(self,key,value):\n",
        "        super().__setitem__(key,[value] * 2)\n",
        "\n",
        "d = DictNo1(one=1)\n",
        "d['two'] = 2\n",
        "d.update(three=3)\n",
        "d\n"
      ],
      "metadata": {
        "colab": {
          "base_uri": "https://localhost:8080/"
        },
        "id": "M9C04UDanoZy",
        "outputId": "9c1df902-eda0-414f-c683-38fc28514bd8"
      },
      "execution_count": null,
      "outputs": [
        {
          "output_type": "execute_result",
          "data": {
            "text/plain": [
              "{'one': 1, 'three': 3, 'two': [2, 2]}"
            ]
          },
          "metadata": {},
          "execution_count": 11
        }
      ]
    },
    {
      "cell_type": "code",
      "source": [
        "import collections\n",
        "\n",
        "\n",
        "class DictNo3(collections.UserDict):\n",
        "    def __setitem__(self,key,value):\n",
        "        super().__setitem__(key,[value] * 2)\n",
        "\n",
        "d = DictNo3(one=1)\n",
        "d\n",
        "d['two'] = 2\n",
        "d\n",
        "d.update(three=3)\n",
        "d\n"
      ],
      "metadata": {
        "colab": {
          "base_uri": "https://localhost:8080/"
        },
        "id": "Gh1ENdwAyvdE",
        "outputId": "83b5aef6-335a-4ce8-f3af-6daaff6ab500"
      },
      "execution_count": null,
      "outputs": [
        {
          "output_type": "execute_result",
          "data": {
            "text/plain": [
              "{'one': [1, 1], 'two': [2, 2], 'three': [3, 3]}"
            ]
          },
          "metadata": {},
          "execution_count": 18
        }
      ]
    },
    {
      "cell_type": "code",
      "source": [
        "class DictNo2(dict):\n",
        "    def __getitem__(self,key):\n",
        "        return 42\n",
        "\n",
        "\n",
        "ad = DictNo2(a='Tomek')\n",
        "ad['a']\n",
        "d = {}\n",
        "d.update(ad)\n",
        "d['a']\n",
        "d\n",
        "ad.get('a')"
      ],
      "metadata": {
        "colab": {
          "base_uri": "https://localhost:8080/",
          "height": 35
        },
        "id": "zNtluAsxx17H",
        "outputId": "08edc802-0d6c-4603-ca77-b7dc1bed7e19"
      },
      "execution_count": null,
      "outputs": [
        {
          "output_type": "execute_result",
          "data": {
            "application/vnd.google.colaboratory.intrinsic+json": {
              "type": "string"
            },
            "text/plain": [
              "'Tomek'"
            ]
          },
          "metadata": {},
          "execution_count": 19
        }
      ]
    },
    {
      "cell_type": "code",
      "source": [
        "\n",
        "\n",
        "class DictNo2(collections.UserDict):\n",
        "    def __getitem__(self,key):\n",
        "        return 42\n",
        "\n",
        "\n",
        "ad = DictNo2(a='Tomek')\n",
        "ad['a']\n",
        "d = {}\n",
        "d.update(ad)\n",
        "d['a']\n",
        "d\n",
        "ad.get('a')"
      ],
      "metadata": {
        "colab": {
          "base_uri": "https://localhost:8080/"
        },
        "id": "BHaEwDjFzTVo",
        "outputId": "c9093720-f912-413d-db86-da111097a293"
      },
      "execution_count": null,
      "outputs": [
        {
          "output_type": "execute_result",
          "data": {
            "text/plain": [
              "42"
            ]
          },
          "metadata": {},
          "execution_count": 22
        }
      ]
    },
    {
      "cell_type": "code",
      "source": [
        "class A:\n",
        "    def ping(self):\n",
        "        print('ping:',self)\n",
        "\n",
        "class B(A):\n",
        "    def pong(self):\n",
        "        print('pong:',self)\n",
        "\n",
        "class C(A):\n",
        "    def pong(self):\n",
        "        print('PONG:',self)\n",
        "\n",
        "class D(C,B):\n",
        "\n",
        "    def ping(self):\n",
        "        super().ping()\n",
        "        #A.ping(self)\n",
        "        print('post-ping:',self)\n",
        "\n",
        "    def pingpong(self):\n",
        "        self.ping()\n",
        "        super().ping()\n",
        "        self.pong()\n",
        "        super().pong()\n",
        "        C.pong(self)\n",
        "\n",
        "\n",
        "d = D()\n",
        "#d.ping()\n",
        "# d.pong()\n",
        "# C.pong(d)\n",
        "D.__mro__\n",
        "# d.pingpong()\n",
        "# d.pingpong()"
      ],
      "metadata": {
        "colab": {
          "base_uri": "https://localhost:8080/"
        },
        "id": "AO0Mqj_c0BLn",
        "outputId": "29d686bf-f48b-4b8f-9580-f94cca52b346"
      },
      "execution_count": null,
      "outputs": [
        {
          "output_type": "execute_result",
          "data": {
            "text/plain": [
              "(__main__.D, __main__.C, __main__.B, __main__.A, object)"
            ]
          },
          "metadata": {},
          "execution_count": 29
        }
      ]
    },
    {
      "cell_type": "code",
      "source": [
        "def print_mro(cls):\n",
        "    print(', '.join(c.__name__ for c in cls.__mro__))\n",
        "\n",
        "\n",
        "#bool.__mro__\n",
        "print_mro(bool)\n"
      ],
      "metadata": {
        "colab": {
          "base_uri": "https://localhost:8080/"
        },
        "id": "Poq2iamA36pP",
        "outputId": "ff8e049f-7f88-43d7-e483-78f12662c5d3"
      },
      "execution_count": null,
      "outputs": [
        {
          "output_type": "stream",
          "name": "stdout",
          "text": [
            "bool, int, object\n"
          ]
        }
      ]
    },
    {
      "cell_type": "code",
      "source": [
        "pip install apache-beam"
      ],
      "metadata": {
        "colab": {
          "base_uri": "https://localhost:8080/",
          "height": 1000
        },
        "id": "NLM2iHmMAyMI",
        "outputId": "9e22786a-9605-4a21-c1e6-cd2ba9ff7ca4"
      },
      "execution_count": null,
      "outputs": [
        {
          "output_type": "stream",
          "name": "stdout",
          "text": [
            "Collecting apache-beam\n",
            "  Downloading apache_beam-2.34.0-cp37-cp37m-manylinux2010_x86_64.whl (9.8 MB)\n",
            "\u001b[K     |████████████████████████████████| 9.8 MB 4.0 MB/s \n",
            "\u001b[?25hCollecting hdfs<3.0.0,>=2.1.0\n",
            "  Downloading hdfs-2.6.0-py3-none-any.whl (33 kB)\n",
            "Requirement already satisfied: pymongo<4.0.0,>=3.8.0 in /usr/local/lib/python3.7/dist-packages (from apache-beam) (3.12.1)\n",
            "Collecting avro-python3!=1.9.2,<1.10.0,>=1.8.1\n",
            "  Downloading avro-python3-1.9.2.1.tar.gz (37 kB)\n",
            "Collecting fastavro<2,>=0.21.4\n",
            "  Downloading fastavro-1.4.7-cp37-cp37m-manylinux_2_17_x86_64.manylinux2014_x86_64.whl (2.3 MB)\n",
            "\u001b[K     |████████████████████████████████| 2.3 MB 33.4 MB/s \n",
            "\u001b[?25hRequirement already satisfied: pytz>=2018.3 in /usr/local/lib/python3.7/dist-packages (from apache-beam) (2018.9)\n",
            "Requirement already satisfied: oauth2client<5,>=2.0.1 in /usr/local/lib/python3.7/dist-packages (from apache-beam) (4.1.3)\n",
            "Requirement already satisfied: python-dateutil<3,>=2.8.0 in /usr/local/lib/python3.7/dist-packages (from apache-beam) (2.8.2)\n",
            "Collecting orjson<4.0\n",
            "  Downloading orjson-3.6.5-cp37-cp37m-manylinux_2_24_x86_64.whl (247 kB)\n",
            "\u001b[K     |████████████████████████████████| 247 kB 56.1 MB/s \n",
            "\u001b[?25hRequirement already satisfied: pydot<2,>=1.2.0 in /usr/local/lib/python3.7/dist-packages (from apache-beam) (1.3.0)\n",
            "Requirement already satisfied: crcmod<2.0,>=1.7 in /usr/local/lib/python3.7/dist-packages (from apache-beam) (1.7)\n",
            "Collecting requests<3.0.0,>=2.24.0\n",
            "  Downloading requests-2.26.0-py2.py3-none-any.whl (62 kB)\n",
            "\u001b[K     |████████████████████████████████| 62 kB 739 kB/s \n",
            "\u001b[?25hRequirement already satisfied: numpy<1.21.0,>=1.14.3 in /usr/local/lib/python3.7/dist-packages (from apache-beam) (1.19.5)\n",
            "Requirement already satisfied: typing-extensions<4,>=3.7.0 in /usr/local/lib/python3.7/dist-packages (from apache-beam) (3.10.0.2)\n",
            "Collecting dill<0.3.2,>=0.3.1.1\n",
            "  Downloading dill-0.3.1.1.tar.gz (151 kB)\n",
            "\u001b[K     |████████████████████████████████| 151 kB 68.1 MB/s \n",
            "\u001b[?25hRequirement already satisfied: grpcio<2,>=1.29.0 in /usr/local/lib/python3.7/dist-packages (from apache-beam) (1.42.0)\n",
            "Collecting future<1.0.0,>=0.18.2\n",
            "  Downloading future-0.18.2.tar.gz (829 kB)\n",
            "\u001b[K     |████████████████████████████████| 829 kB 36.4 MB/s \n",
            "\u001b[?25hRequirement already satisfied: protobuf<4,>=3.12.2 in /usr/local/lib/python3.7/dist-packages (from apache-beam) (3.17.3)\n",
            "Requirement already satisfied: httplib2<0.20.0,>=0.8 in /usr/local/lib/python3.7/dist-packages (from apache-beam) (0.17.4)\n",
            "Requirement already satisfied: pyarrow<6.0.0,>=0.15.1 in /usr/local/lib/python3.7/dist-packages (from apache-beam) (3.0.0)\n",
            "Requirement already satisfied: six>=1.5.2 in /usr/local/lib/python3.7/dist-packages (from grpcio<2,>=1.29.0->apache-beam) (1.15.0)\n",
            "Requirement already satisfied: docopt in /usr/local/lib/python3.7/dist-packages (from hdfs<3.0.0,>=2.1.0->apache-beam) (0.6.2)\n",
            "Requirement already satisfied: rsa>=3.1.4 in /usr/local/lib/python3.7/dist-packages (from oauth2client<5,>=2.0.1->apache-beam) (4.8)\n",
            "Requirement already satisfied: pyasn1-modules>=0.0.5 in /usr/local/lib/python3.7/dist-packages (from oauth2client<5,>=2.0.1->apache-beam) (0.2.8)\n",
            "Requirement already satisfied: pyasn1>=0.1.7 in /usr/local/lib/python3.7/dist-packages (from oauth2client<5,>=2.0.1->apache-beam) (0.4.8)\n",
            "Requirement already satisfied: pyparsing>=2.1.4 in /usr/local/lib/python3.7/dist-packages (from pydot<2,>=1.2.0->apache-beam) (3.0.6)\n",
            "Requirement already satisfied: idna<4,>=2.5 in /usr/local/lib/python3.7/dist-packages (from requests<3.0.0,>=2.24.0->apache-beam) (2.10)\n",
            "Requirement already satisfied: urllib3<1.27,>=1.21.1 in /usr/local/lib/python3.7/dist-packages (from requests<3.0.0,>=2.24.0->apache-beam) (1.24.3)\n",
            "Requirement already satisfied: certifi>=2017.4.17 in /usr/local/lib/python3.7/dist-packages (from requests<3.0.0,>=2.24.0->apache-beam) (2021.10.8)\n",
            "Requirement already satisfied: charset-normalizer~=2.0.0 in /usr/local/lib/python3.7/dist-packages (from requests<3.0.0,>=2.24.0->apache-beam) (2.0.8)\n",
            "Building wheels for collected packages: avro-python3, dill, future\n",
            "  Building wheel for avro-python3 (setup.py) ... \u001b[?25l\u001b[?25hdone\n",
            "  Created wheel for avro-python3: filename=avro_python3-1.9.2.1-py3-none-any.whl size=43512 sha256=d1ee97fffa52ffc7cfd8c6f0a3b2df8e0e8581289fd34284521a9da145e2aa97\n",
            "  Stored in directory: /root/.cache/pip/wheels/bc/49/5f/fdb5b9d85055c478213e0158ac122b596816149a02d82e0ab1\n",
            "  Building wheel for dill (setup.py) ... \u001b[?25l\u001b[?25hdone\n",
            "  Created wheel for dill: filename=dill-0.3.1.1-py3-none-any.whl size=78546 sha256=36ef1accc2069b927a89bb052898f0b71c59fd3f1e21cdfea4c5e55179faa393\n",
            "  Stored in directory: /root/.cache/pip/wheels/a4/61/fd/c57e374e580aa78a45ed78d5859b3a44436af17e22ca53284f\n",
            "  Building wheel for future (setup.py) ... \u001b[?25l\u001b[?25hdone\n",
            "  Created wheel for future: filename=future-0.18.2-py3-none-any.whl size=491070 sha256=de99a4042377821875e368f6d2ea7362ffac0bb64286a0eaf1324d2e04fe5f3b\n",
            "  Stored in directory: /root/.cache/pip/wheels/56/b0/fe/4410d17b32f1f0c3cf54cdfb2bc04d7b4b8f4ae377e2229ba0\n",
            "Successfully built avro-python3 dill future\n",
            "Installing collected packages: requests, orjson, hdfs, future, fastavro, dill, avro-python3, apache-beam\n",
            "  Attempting uninstall: requests\n",
            "    Found existing installation: requests 2.23.0\n",
            "    Uninstalling requests-2.23.0:\n",
            "      Successfully uninstalled requests-2.23.0\n",
            "  Attempting uninstall: future\n",
            "    Found existing installation: future 0.16.0\n",
            "    Uninstalling future-0.16.0:\n",
            "      Successfully uninstalled future-0.16.0\n",
            "  Attempting uninstall: dill\n",
            "    Found existing installation: dill 0.3.4\n",
            "    Uninstalling dill-0.3.4:\n",
            "      Successfully uninstalled dill-0.3.4\n",
            "\u001b[31mERROR: pip's dependency resolver does not currently take into account all the packages that are installed. This behaviour is the source of the following dependency conflicts.\n",
            "multiprocess 0.70.12.2 requires dill>=0.3.4, but you have dill 0.3.1.1 which is incompatible.\n",
            "google-colab 1.0.0 requires requests~=2.23.0, but you have requests 2.26.0 which is incompatible.\n",
            "datascience 0.10.6 requires folium==0.2.1, but you have folium 0.8.3 which is incompatible.\u001b[0m\n",
            "Successfully installed apache-beam-2.34.0 avro-python3-1.9.2.1 dill-0.3.1.1 fastavro-1.4.7 future-0.18.2 hdfs-2.6.0 orjson-3.6.5 requests-2.26.0\n"
          ]
        },
        {
          "output_type": "display_data",
          "data": {
            "application/vnd.colab-display-data+json": {
              "pip_warning": {
                "packages": [
                  "requests"
                ]
              }
            }
          },
          "metadata": {}
        }
      ]
    },
    {
      "cell_type": "code",
      "source": [
        "from apache_beam.io.textio import WriteToText\n",
        "from apache_beam.transforms.core import ParDo\n",
        "import apache_beam as b\n",
        "\n",
        "var1 = [1,3,5,7]\n",
        "var2 = var1 | b.Map(lambda x: x * 2)\n",
        "print(var2)\n",
        "\n",
        "class ToKeyValue(b.DoFn):\n",
        "    def procedura(self,element):\n",
        "        z = element.split(',')\n",
        "        if x[1] == '37.650000': return\n",
        "        kv = (x[1],x[0])\n",
        "        return [kv]\n",
        "\n",
        "\n",
        "with b.Pipeline() as p:\n",
        "    lines = p | (b.io.ReadFromText('sample_data/california_housing_test.csv')\n",
        "    | b.ParDo(ToKeyValue())\n",
        "    | b.GroupByKey()\n",
        "    | b.Map(print)\n",
        "    | b.io.WriteToText('dane.txt'))\n",
        "\n",
        "\n",
        "# with b.Pipeline() as p:\n",
        "#     lines = p | b.io.ReadFromText('sample_data/california_housing_test.csv')\n",
        "\n",
        "#     lines | b.Map(print)"
      ],
      "metadata": {
        "id": "sJLOGSWTBKKs"
      },
      "execution_count": null,
      "outputs": []
    },
    {
      "cell_type": "code",
      "source": [
        "import asyncio\n",
        "\n",
        "\n",
        "async def pozdrowienie(pierwszy,drugi):\n",
        "    print(pierwszy)\n",
        "    await asyncio.sleep(1)\n",
        "    print(drugi)\n",
        "\n",
        "#asyncio.run(pozdrowienie(\"Witaj\",\"Żegnaj\"))"
      ],
      "metadata": {
        "id": "TlR5SJBQD0r7"
      },
      "execution_count": null,
      "outputs": []
    },
    {
      "cell_type": "code",
      "source": [
        "from urllib.request import urlopen\n",
        "import warnings\n",
        "import os\n",
        "import json\n",
        "from collections import abc\n",
        "import keyword\n",
        "\n",
        "class FrozenJSON:\n",
        "\n",
        "    def __new__(cls,arg):\n",
        "        if isinstance(arg, abc.Mapping):\n",
        "            return super().__new__(cls)\n",
        "        elif isinstance(arg, abc.MutableSequence):\n",
        "            return [cls(item) for item in arg]\n",
        "        else:\n",
        "            return arg\n",
        "\n",
        "    def __init__(self,mapping):\n",
        "        self.__data = {}\n",
        "        for key,value in mapping.items():\n",
        "            if keyword.iskeyword(key):\n",
        "                key += '_'\n",
        "            self.__data[key] = value\n",
        "\n",
        "    def __getattr__(self, name):\n",
        "        if hasattr(self.__data,name): \n",
        "            return getattr(self.__data, name)\n",
        "        else: \n",
        "            return FrozenJSON(self.__data[name])\n",
        "\n",
        "    # classmethod\n",
        "    # def build(cls,obj):\n",
        "    #     if isinstance(obj,abc.Mapping):\n",
        "    #         return cls(obj)\n",
        "    #     elif isinstance(obj,abc.MutableSequence):\n",
        "    #         return [cls.build(item) for item in obj]\n",
        "    #     else:\n",
        "    #         return obj\n",
        "    \n",
        "\n",
        "\n",
        "URL = 'https://opensource.com/tags/oscon'\n",
        "JSON = 'sample.json'\n",
        "\n",
        "def load():\n",
        "    if not os.path.exists(JSON):\n",
        "        msg = 'pobieram {} do {}'.format(URL,JSON)\n",
        "        warnings.warn(msg)\n",
        "        with urlopen(URL) as remote, open(JSON, 'wb') as local:\n",
        "            local.write(remote.read())\n",
        "    with open(JSON) as fp:\n",
        "        return json.load(fp)\n",
        "\n",
        "raw_feed = load()\n",
        "feed = FrozenJSON(raw_feed)\n",
        "len(feed.Schedule.speakers)\n",
        "sorted(feed.Schedule.keys())\n",
        "talk = feed.Schedule.events[0]\n",
        "talk.name\n",
        "\n",
        "\n",
        "\n",
        "\n",
        "# o = FrozenJSON({'name':'Tomasz','wiek': 1983, 'class': \"A+\"})\n",
        "# o.class_\n",
        "# # getattr(o,'class')\n",
        "# x = FrozenJSON({'2be':'or not'})\n",
        "# #x.2be"
      ],
      "metadata": {
        "colab": {
          "base_uri": "https://localhost:8080/",
          "height": 35
        },
        "id": "5HIjNLC3r4eu",
        "outputId": "f5ea4c9a-2c27-40f5-bf26-0ec060cf9858"
      },
      "execution_count": null,
      "outputs": [
        {
          "output_type": "execute_result",
          "data": {
            "application/vnd.google.colaboratory.intrinsic+json": {
              "type": "string"
            },
            "text/plain": [
              "'Why Schools Don´t Use Open Source to Teach Programming'"
            ]
          },
          "metadata": {},
          "execution_count": 67
        }
      ]
    },
    {
      "cell_type": "code",
      "source": [
        "from urllib.request import urlopen\n",
        "import warnings\n",
        "import os\n",
        "import json\n",
        "from collections import abc\n",
        "import keyword\n",
        "import shelve\n",
        "\n",
        "URL = 'https://opensource.com/tags/oscon'\n",
        "JSON = 'sample.json'\n",
        "file = 'conferences.115'\n",
        "\n",
        "db = shelve.open(JSON)\n",
        "\n",
        "\n",
        "class Record:\n",
        "    def __init__(self,**kwargs):\n",
        "        self.__dict__.update(kwargs)\n",
        "\n",
        "    @staticmethod\n",
        "    def load_db(db):\n",
        "        raw_data = load()\n",
        "        warnings.warn('ładuje' + JSON)\n",
        "        for collection, rec_list in raw_data['Schedule'].items():\n",
        "            record_type = collection[:-1]\n",
        "            for record in rec_list:\n",
        "                key = '{}.{}'.format(record_type, record['serial'])\n",
        "                record['serial'] = key\n",
        "                db[key] = Record(**record)\n",
        "\n",
        "\n",
        "\n",
        "def load():\n",
        "    if not os.path.exists(JSON):\n",
        "        msg = 'pobieram {} do {}'.format(URL,JSON)\n",
        "        warnings.warn(msg)\n",
        "        with urlopen(URL) as remote, open(JSON, 'wb') as local:\n",
        "            local.write(remote.read())\n",
        "    with open(JSON) as fp:\n",
        "        return json.load(fp)\n",
        "\n",
        "if file not in db:\n",
        "    Record.load_db(db)"
      ],
      "metadata": {
        "colab": {
          "base_uri": "https://localhost:8080/",
          "height": 381
        },
        "id": "oQDThxel3U7E",
        "outputId": "a0d5fdf5-f4be-4948-e04e-51ec58623541"
      },
      "execution_count": null,
      "outputs": [
        {
          "output_type": "error",
          "ename": "error",
          "evalue": "ignored",
          "traceback": [
            "\u001b[0;31m---------------------------------------------------------------------------\u001b[0m",
            "\u001b[0;31merror\u001b[0m                                     Traceback (most recent call last)",
            "\u001b[0;32m<ipython-input-68-724613a4ef4c>\u001b[0m in \u001b[0;36m<module>\u001b[0;34m()\u001b[0m\n\u001b[1;32m     11\u001b[0m \u001b[0mfile\u001b[0m \u001b[0;34m=\u001b[0m \u001b[0;34m'conferences.115'\u001b[0m\u001b[0;34m\u001b[0m\u001b[0;34m\u001b[0m\u001b[0m\n\u001b[1;32m     12\u001b[0m \u001b[0;34m\u001b[0m\u001b[0m\n\u001b[0;32m---> 13\u001b[0;31m \u001b[0mdb\u001b[0m \u001b[0;34m=\u001b[0m \u001b[0mshelve\u001b[0m\u001b[0;34m.\u001b[0m\u001b[0mopen\u001b[0m\u001b[0;34m(\u001b[0m\u001b[0mJSON\u001b[0m\u001b[0;34m)\u001b[0m\u001b[0;34m\u001b[0m\u001b[0;34m\u001b[0m\u001b[0m\n\u001b[0m\u001b[1;32m     14\u001b[0m \u001b[0;34m\u001b[0m\u001b[0m\n\u001b[1;32m     15\u001b[0m \u001b[0;34m\u001b[0m\u001b[0m\n",
            "\u001b[0;32m/usr/lib/python3.7/shelve.py\u001b[0m in \u001b[0;36mopen\u001b[0;34m(filename, flag, protocol, writeback)\u001b[0m\n\u001b[1;32m    241\u001b[0m     \"\"\"\n\u001b[1;32m    242\u001b[0m \u001b[0;34m\u001b[0m\u001b[0m\n\u001b[0;32m--> 243\u001b[0;31m     \u001b[0;32mreturn\u001b[0m \u001b[0mDbfilenameShelf\u001b[0m\u001b[0;34m(\u001b[0m\u001b[0mfilename\u001b[0m\u001b[0;34m,\u001b[0m \u001b[0mflag\u001b[0m\u001b[0;34m,\u001b[0m \u001b[0mprotocol\u001b[0m\u001b[0;34m,\u001b[0m \u001b[0mwriteback\u001b[0m\u001b[0;34m)\u001b[0m\u001b[0;34m\u001b[0m\u001b[0;34m\u001b[0m\u001b[0m\n\u001b[0m",
            "\u001b[0;32m/usr/lib/python3.7/shelve.py\u001b[0m in \u001b[0;36m__init__\u001b[0;34m(self, filename, flag, protocol, writeback)\u001b[0m\n\u001b[1;32m    225\u001b[0m     \u001b[0;32mdef\u001b[0m \u001b[0m__init__\u001b[0m\u001b[0;34m(\u001b[0m\u001b[0mself\u001b[0m\u001b[0;34m,\u001b[0m \u001b[0mfilename\u001b[0m\u001b[0;34m,\u001b[0m \u001b[0mflag\u001b[0m\u001b[0;34m=\u001b[0m\u001b[0;34m'c'\u001b[0m\u001b[0;34m,\u001b[0m \u001b[0mprotocol\u001b[0m\u001b[0;34m=\u001b[0m\u001b[0;32mNone\u001b[0m\u001b[0;34m,\u001b[0m \u001b[0mwriteback\u001b[0m\u001b[0;34m=\u001b[0m\u001b[0;32mFalse\u001b[0m\u001b[0;34m)\u001b[0m\u001b[0;34m:\u001b[0m\u001b[0;34m\u001b[0m\u001b[0;34m\u001b[0m\u001b[0m\n\u001b[1;32m    226\u001b[0m         \u001b[0;32mimport\u001b[0m \u001b[0mdbm\u001b[0m\u001b[0;34m\u001b[0m\u001b[0;34m\u001b[0m\u001b[0m\n\u001b[0;32m--> 227\u001b[0;31m         \u001b[0mShelf\u001b[0m\u001b[0;34m.\u001b[0m\u001b[0m__init__\u001b[0m\u001b[0;34m(\u001b[0m\u001b[0mself\u001b[0m\u001b[0;34m,\u001b[0m \u001b[0mdbm\u001b[0m\u001b[0;34m.\u001b[0m\u001b[0mopen\u001b[0m\u001b[0;34m(\u001b[0m\u001b[0mfilename\u001b[0m\u001b[0;34m,\u001b[0m \u001b[0mflag\u001b[0m\u001b[0;34m)\u001b[0m\u001b[0;34m,\u001b[0m \u001b[0mprotocol\u001b[0m\u001b[0;34m,\u001b[0m \u001b[0mwriteback\u001b[0m\u001b[0;34m)\u001b[0m\u001b[0;34m\u001b[0m\u001b[0;34m\u001b[0m\u001b[0m\n\u001b[0m\u001b[1;32m    228\u001b[0m \u001b[0;34m\u001b[0m\u001b[0m\n\u001b[1;32m    229\u001b[0m \u001b[0;34m\u001b[0m\u001b[0m\n",
            "\u001b[0;32m/usr/lib/python3.7/dbm/__init__.py\u001b[0m in \u001b[0;36mopen\u001b[0;34m(file, flag, mode)\u001b[0m\n\u001b[1;32m     86\u001b[0m     \u001b[0;32melif\u001b[0m \u001b[0mresult\u001b[0m \u001b[0;34m==\u001b[0m \u001b[0;34m\"\"\u001b[0m\u001b[0;34m:\u001b[0m\u001b[0;34m\u001b[0m\u001b[0;34m\u001b[0m\u001b[0m\n\u001b[1;32m     87\u001b[0m         \u001b[0;31m# db type cannot be determined\u001b[0m\u001b[0;34m\u001b[0m\u001b[0;34m\u001b[0m\u001b[0;34m\u001b[0m\u001b[0m\n\u001b[0;32m---> 88\u001b[0;31m         \u001b[0;32mraise\u001b[0m \u001b[0merror\u001b[0m\u001b[0;34m[\u001b[0m\u001b[0;36m0\u001b[0m\u001b[0;34m]\u001b[0m\u001b[0;34m(\u001b[0m\u001b[0;34m\"db type could not be determined\"\u001b[0m\u001b[0;34m)\u001b[0m\u001b[0;34m\u001b[0m\u001b[0;34m\u001b[0m\u001b[0m\n\u001b[0m\u001b[1;32m     89\u001b[0m     \u001b[0;32melif\u001b[0m \u001b[0mresult\u001b[0m \u001b[0;32mnot\u001b[0m \u001b[0;32min\u001b[0m \u001b[0m_modules\u001b[0m\u001b[0;34m:\u001b[0m\u001b[0;34m\u001b[0m\u001b[0;34m\u001b[0m\u001b[0m\n\u001b[1;32m     90\u001b[0m         raise error[0](\"db type is {0}, but the module is not \"\n",
            "\u001b[0;31merror\u001b[0m: db type could not be determined"
          ]
        }
      ]
    }
  ]
}