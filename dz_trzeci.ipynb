{
  "nbformat": 4,
  "nbformat_minor": 0,
  "metadata": {
    "colab": {
      "name": "dz_trzeci.ipynb",
      "provenance": [],
      "collapsed_sections": []
    },
    "kernelspec": {
      "name": "python3",
      "display_name": "Python 3"
    },
    "language_info": {
      "name": "python"
    }
  },
  "cells": [
    {
      "cell_type": "code",
      "execution_count": null,
      "metadata": {
        "colab": {
          "base_uri": "https://localhost:8080/"
        },
        "id": "KVURO35pyY1j",
        "outputId": "92d2d194-d4ad-47b9-ddee-7b65e80f5177"
      },
      "outputs": [
        {
          "output_type": "stream",
          "name": "stdout",
          "text": [
            "<class 'str'> : text = <class 'inspect._empty'>\n",
            "'int > 0'     : max_len = 80\n"
          ]
        }
      ],
      "source": [
        "from inspect import signature\n",
        "\n",
        "def clip(text:str, max_len:'int > 0'=80) -> str:\n",
        "    \"\"\"Return text clipped at the last space before or after max_len\n",
        "    \"\"\"\n",
        "    end = None\n",
        "    if len(text) > max_len:\n",
        "        space_before = text.rfind(' ', 0, max_len)\n",
        "        if space_before >= 0:\n",
        "            end = space_before\n",
        "        else:\n",
        "            space_after = text.rfind(' ', max_len)\n",
        "            if space_after >= 0:\n",
        "                end = space_after\n",
        "    if end is None:  # no spaces were found\n",
        "        end = len(text)\n",
        "    return text[:end].rstrip()\n",
        "\n",
        "#clip(\"bananbbbbbbbbbbbbbbb 43434343434443444434444344443444434 444344443444434444344443444434\")\n",
        "\n",
        "\n",
        "# s = signature(clip)\n",
        "\n",
        "# str(s)\n",
        "# for param in s.parameters.values():\n",
        "#     note = repr(param.annotation).ljust(13)\n",
        "#     print(note, \":\", param.name, \"=\",param.default)\n",
        "\n",
        "\n",
        "# clip.__defaults__\n",
        "# clip.__code__\n",
        "# clip.__code__.co_varnames\n",
        "# clip.__code__.co_argcount\n",
        "\n",
        "\n"
      ]
    },
    {
      "cell_type": "code",
      "source": [
        "from functools import reduce, partial\n",
        "from operator import mul\n",
        "\n",
        "triple = partial(mul,3)\n",
        "print(triple(7))\n",
        "\n",
        "print(list(map(triple, range(1,10))))\n",
        "\n",
        "\n",
        "def fact(n):\n",
        "    return reduce(mul, range(1, n+1))\n",
        "\n"
      ],
      "metadata": {
        "colab": {
          "base_uri": "https://localhost:8080/"
        },
        "id": "xAUhSPMmNLuj",
        "outputId": "a023e0fb-86fd-43ff-b771-419d75a148fa"
      },
      "execution_count": null,
      "outputs": [
        {
          "output_type": "stream",
          "name": "stdout",
          "text": [
            "21\n",
            "[3, 6, 9, 12, 15, 18, 21, 24, 27]\n"
          ]
        }
      ]
    },
    {
      "cell_type": "code",
      "source": [
        "from __future__ import annotations\n",
        "from abc import ABC, abstractmethod\n",
        "\n",
        "\n",
        "class AbstractFactory(ABC):\n",
        "\n",
        "    @abstractmethod\n",
        "    def create_product_a(self) -> AbstractProductA:\n",
        "        pass\n",
        "\n",
        "    @abstractmethod\n",
        "    def create_product_b(self) -> AbstractProductB:\n",
        "        pass\n",
        "\n",
        "\n",
        "class ConcreteFactory1(AbstractFactory):\n",
        "\n",
        "\n",
        "    def create_product_a(self) -> AbstractProductA:\n",
        "        return ConcreteProductA1()\n",
        "\n",
        "    def create_product_b(self) -> AbstractProductB:\n",
        "        return ConcreteProductB1()\n",
        "\n",
        "\n",
        "class ConcreteFactory2(AbstractFactory):\n",
        "\n",
        "    def create_product_a(self) -> AbstractProductA:\n",
        "        return ConcreteProductA2()\n",
        "\n",
        "    def create_product_b(self) -> AbstractProductB:\n",
        "        return ConcreteProductB2()\n",
        "\n",
        "\n",
        "class AbstractProductA(ABC):\n",
        " \n",
        "\n",
        "    @abstractmethod\n",
        "    def useful_function_a(self) -> str:\n",
        "        pass\n",
        "\n",
        "\n",
        "\n",
        "class ConcreteProductA1(AbstractProductA):\n",
        "    def useful_function_a(self) -> str:\n",
        "        return \"The result of the product A1.\"\n",
        "\n",
        "\n",
        "class ConcreteProductA2(AbstractProductA):\n",
        "    def useful_function_a(self) -> str:\n",
        "        return \"The result of the product A2.\"\n",
        "\n",
        "\n",
        "class AbstractProductB(ABC):\n",
        "\n",
        "    @abstractmethod\n",
        "    def useful_function_b(self) -> None:\n",
        "\n",
        "        pass\n",
        "\n",
        "    @abstractmethod\n",
        "    def another_useful_function_b(self, collaborator: AbstractProductA) -> None:\n",
        "\n",
        "        pass\n",
        "\n",
        "\n",
        "\n",
        "class ConcreteProductB1(AbstractProductB):\n",
        "    def useful_function_b(self) -> str:\n",
        "        return \"The result of the product B1.\"\n",
        "\n",
        "\n",
        "    def another_useful_function_b(self, collaborator: AbstractProductA) -> str:\n",
        "        result = collaborator.useful_function_a()\n",
        "        return f\"The result of the B1 collaborating with the ({result})\"\n",
        "\n",
        "\n",
        "class ConcreteProductB2(AbstractProductB):\n",
        "    def useful_function_b(self) -> str:\n",
        "        return \"The result of the product B2.\"\n",
        "\n",
        "    def another_useful_function_b(self, collaborator: AbstractProductA):\n",
        "\n",
        "        result = collaborator.useful_function_a()\n",
        "        return f\"The result of the B2 collaborating with the ({result})\"\n",
        "\n",
        "\n",
        "def client_code(factory: AbstractFactory) -> None:\n",
        "\n",
        "    product_a = factory.create_product_a()\n",
        "    product_b = factory.create_product_b()\n",
        "\n",
        "    print(f\"{product_b.useful_function_b()}\")\n",
        "    print(f\"{product_b.another_useful_function_b(product_a)}\", end=\"\")\n",
        "\n",
        "\n",
        "if __name__ == \"__main__\":\n",
        "\n",
        "    print(\"Client: Testing client code with the first factory type:\")\n",
        "    client_code(ConcreteFactory1())\n",
        "\n",
        "    print(\"\\n\")\n",
        "\n",
        "    print(\"Client: Testing the same client code with the second factory type:\")\n",
        "    client_code(ConcreteFactory2())\n"
      ],
      "metadata": {
        "id": "e-w-M979QOHs",
        "outputId": "ff7de484-43f2-4558-d43c-ab6941d2ac7c",
        "colab": {
          "base_uri": "https://localhost:8080/"
        }
      },
      "execution_count": null,
      "outputs": [
        {
          "output_type": "stream",
          "name": "stdout",
          "text": [
            "Client: Testing client code with the first factory type:\n",
            "The result of the product B1.\n",
            "The result of the B1 collaborating with the (The result of the product A1.)\n",
            "\n",
            "Client: Testing the same client code with the second factory type:\n",
            "The result of the product B2.\n",
            "The result of the B2 collaborating with the (The result of the product A2.)"
          ]
        }
      ]
    },
    {
      "cell_type": "markdown",
      "source": [
        "CEL, MOTYWACJA, STRUKTURA, PRZYKŁAD KODU\n",
        "Wzorzec KREACYJNY! STRUKTURALNY! BEHAWIORALNY!\n"
      ],
      "metadata": {
        "id": "r0uJk7eNRh76"
      }
    },
    {
      "cell_type": "code",
      "source": [
        "from __future__ import annotations\n",
        "from abc import ABC, abstractmethod\n",
        "\n",
        "\n",
        "class Creator(ABC):\n",
        "\n",
        "\n",
        "    @abstractmethod\n",
        "    def factory_method(self):\n",
        "\n",
        "        pass\n",
        "\n",
        "    def some_operation(self) -> str:\n",
        "\n",
        "\n",
        "        # Call the factory method to create a Product object.\n",
        "        product = self.factory_method()\n",
        "\n",
        "        # Now, use the product.\n",
        "        result = f\"Creator: The same creator's code has just worked with {product.operation()}\"\n",
        "\n",
        "        return result\n",
        "\n",
        "\n",
        "\n",
        "class ConcreteCreator1(Creator):\n",
        "\n",
        "\n",
        "    def factory_method(self) -> Product:\n",
        "        return ConcreteProduct1()\n",
        "\n",
        "\n",
        "class ConcreteCreator2(Creator):\n",
        "    def factory_method(self) -> Product:\n",
        "        return ConcreteProduct2()\n",
        "\n",
        "\n",
        "class Product(ABC):\n",
        "\n",
        "\n",
        "    @abstractmethod\n",
        "    def operation(self) -> str:\n",
        "        pass\n",
        "\n",
        "\n",
        "class ConcreteProduct1(Product):\n",
        "    def operation(self) -> str:\n",
        "        return \"{Result of the ConcreteProduct1}\"\n",
        "\n",
        "\n",
        "class ConcreteProduct2(Product):\n",
        "    def operation(self) -> str:\n",
        "        return \"{Result of the ConcreteProduct2}\"\n",
        "\n",
        "\n",
        "def client_code(creator: Creator) -> None:\n",
        "\n",
        "    print(f\"Client: I'm not aware of the creator's class, but it still works.\\n\"\n",
        "          f\"{creator.some_operation()}\", end=\"\")\n",
        "\n",
        "\n",
        "if __name__ == \"__main__\":\n",
        "    print(\"App: Launched with the ConcreteCreator1.\")\n",
        "    client_code(ConcreteCreator1())\n",
        "    print(\"\\n\")\n",
        "\n",
        "    print(\"App: Launched with the ConcreteCreator2.\")\n",
        "    client_code(ConcreteCreator2())\n"
      ],
      "metadata": {
        "id": "xq3VD4Gtb3vE"
      },
      "execution_count": null,
      "outputs": []
    },
    {
      "cell_type": "code",
      "source": [
        "class SingletonMeta(type):\n",
        "\n",
        "\n",
        "    _instances = {}\n",
        "\n",
        "    def __call__(cls, *args, **kwargs):\n",
        "       \n",
        "        if cls not in cls._instances:\n",
        "            instance = super().__call__(*args, **kwargs)\n",
        "            cls._instances[cls] = instance\n",
        "        return cls._instances[cls]\n",
        "\n",
        "\n",
        "class Singleton(metaclass=SingletonMeta):\n",
        "    def some_business_logic(self):\n",
        "      \n",
        "\n",
        "        # ...\n",
        "\n",
        "\n",
        "if __name__ == \"__main__\":\n",
        "    # The client code.\n",
        "\n",
        "    s1 = Singleton()\n",
        "    s2 = Singleton()\n",
        "\n",
        "    if id(s1) == id(s2):\n",
        "        print(\"Singleton works, both variables contain the same instance.\")\n",
        "    else:\n",
        "        print(\"Singleton failed, variables contain different instances.\")"
      ],
      "metadata": {
        "id": "RAJ80WQdl0Lb"
      },
      "execution_count": null,
      "outputs": []
    },
    {
      "cell_type": "markdown",
      "source": [
        "# Nowa sekcja"
      ],
      "metadata": {
        "id": "ocYnNKs4q28y"
      }
    },
    {
      "cell_type": "code",
      "source": [
        "\n",
        "\n",
        "from __future__ import annotations\n",
        "from abc import ABC, abstractmethod\n",
        "from typing import List\n",
        "\n",
        "\n",
        "class Component(ABC):\n",
        "\n",
        "    @abstractmethod\n",
        "    def accept(self, visitor: Visitor) -> None:\n",
        "        pass\n",
        "\n",
        "\n",
        "class ConcreteComponentA(Component):\n",
        "\n",
        "    def accept(self, visitor: Visitor) -> None:\n",
        "  \n",
        "\n",
        "        visitor.visit_concrete_component_a(self)\n",
        "\n",
        "    def exclusive_method_of_concrete_component_a(self) -> str:\n",
        " \n",
        "\n",
        "        return \"A\"\n",
        "\n",
        "\n",
        "class ConcreteComponentB(Component):\n",
        "\n",
        "\n",
        "    def accept(self, visitor: Visitor):\n",
        "        visitor.visit_concrete_component_b(self)\n",
        "\n",
        "    def special_method_of_concrete_component_b(self) -> str:\n",
        "        return \"B\"\n",
        "\n",
        "\n",
        "class Visitor(ABC):\n",
        " \n",
        "\n",
        "    @abstractmethod\n",
        "    def visit_concrete_component_a(self, element: ConcreteComponentA) -> None:\n",
        "        pass\n",
        "\n",
        "    @abstractmethod\n",
        "    def visit_concrete_component_b(self, element: ConcreteComponentB) -> None:\n",
        "        pass\n",
        "\n",
        "\n",
        "\n",
        "class ConcreteVisitor1(Visitor):\n",
        "    def visit_concrete_component_a(self, element) -> None:\n",
        "        print(f\"{element.exclusive_method_of_concrete_component_a()} + ConcreteVisitor1\")\n",
        "\n",
        "    def visit_concrete_component_b(self, element) -> None:\n",
        "        print(f\"{element.special_method_of_concrete_component_b()} + ConcreteVisitor1\")\n",
        "\n",
        "\n",
        "class ConcreteVisitor2(Visitor):\n",
        "    def visit_concrete_component_a(self, element) -> None:\n",
        "        print(f\"{element.exclusive_method_of_concrete_component_a()} + ConcreteVisitor2\")\n",
        "\n",
        "    def visit_concrete_component_b(self, element) -> None:\n",
        "        print(f\"{element.special_method_of_concrete_component_b()} + ConcreteVisitor2\")\n",
        "\n",
        "\n",
        "def client_code(components: List[Component], visitor: Visitor) -> None:\n",
        "    \"\"\"\n",
        "    The client code can run visitor operations over any set of elements without\n",
        "    figuring out their concrete classes. The accept operation directs a call to\n",
        "    the appropriate operation in the visitor object.\n",
        "    \"\"\"\n",
        "\n",
        "    # ...\n",
        "    for component in components:\n",
        "        component.accept(visitor)\n",
        "    # ...\n",
        "\n",
        "\n",
        "if __name__ == \"__main__\":\n",
        "    components = [ConcreteComponentA(), ConcreteComponentB()]\n",
        "\n",
        "    print(\"The client code works with all visitors via the base Visitor interface:\")\n",
        "    visitor1 = ConcreteVisitor1()\n",
        "    client_code(components, visitor1)\n",
        "\n",
        "    print(\"It allows the same client code to work with different types of visitors:\")\n",
        "    visitor2 = ConcreteVisitor2()\n",
        "    client_code(components, visitor2)\n"
      ],
      "metadata": {
        "id": "JcKda13bpHH-"
      },
      "execution_count": null,
      "outputs": []
    },
    {
      "cell_type": "code",
      "source": [
        "def decorate(f):\n",
        "    def w():\n",
        "        print(\"Jestem dekoratorem!\")\n",
        "        f()\n",
        "    return w\n",
        "\n",
        "@decorate\n",
        "def target():\n",
        "    print('Uruchomione...')\n",
        "\n",
        "\n",
        "registry = []\n",
        "\n",
        "def register(func):\n",
        "    print('uruchomiony register(%s)' % func)\n",
        "    registry.append(func)\n",
        "    return func\n",
        "\n",
        "@register\n",
        "def f1():\n",
        "    print('działa f1')\n",
        "\n",
        "@register\n",
        "def f2():\n",
        "    print('działa f2')\n",
        "\n",
        "def f3():\n",
        "    print('działa f3')\n",
        "\n",
        "def main():\n",
        "    print('działa main')\n",
        "    print('registry ->',registry)\n",
        "    f1()\n",
        "    f2()\n",
        "    f3()\n",
        "\n",
        "main()\n",
        "\n",
        "\n",
        "\n",
        "\n"
      ],
      "metadata": {
        "colab": {
          "base_uri": "https://localhost:8080/"
        },
        "id": "OF7N6F5RsWeh",
        "outputId": "fbb7157f-f623-444f-f585-3269a3a2fff3"
      },
      "execution_count": null,
      "outputs": [
        {
          "output_type": "stream",
          "name": "stdout",
          "text": [
            "uruchomiony register(<function f1 at 0x7f3e2ff527a0>)\n",
            "uruchomiony register(<function f2 at 0x7f3e2ff51cb0>)\n",
            "działa main\n",
            "registry -> [<function f1 at 0x7f3e2ff527a0>, <function f2 at 0x7f3e2ff51cb0>]\n",
            "działa f1\n",
            "działa f2\n",
            "działa f3\n"
          ]
        }
      ]
    },
    {
      "cell_type": "code",
      "source": [
        "def f(a):\n",
        "    global b\n",
        "    b = 9\n",
        "    print(a)\n",
        "    print(b)\n",
        "    \n",
        "\n",
        "b = 6\n",
        "f(3)\n",
        "b"
      ],
      "metadata": {
        "colab": {
          "base_uri": "https://localhost:8080/"
        },
        "id": "0FTTnHUJvRo8",
        "outputId": "7f523d23-130a-4c1c-e3e4-51491a176392"
      },
      "execution_count": null,
      "outputs": [
        {
          "output_type": "stream",
          "name": "stdout",
          "text": [
            "3\n",
            "9\n"
          ]
        },
        {
          "output_type": "execute_result",
          "data": {
            "text/plain": [
              "9"
            ]
          },
          "metadata": {},
          "execution_count": 44
        }
      ]
    },
    {
      "cell_type": "code",
      "source": [
        "from inspect import signature\n",
        "\n",
        "class Avg():\n",
        "    def __init__(self):\n",
        "        self.series = []\n",
        "    \n",
        "    def __call__(self, new_value):\n",
        "        self.series.append(new_value)\n",
        "        total = sum(self.series)\n",
        "        return total/len(self.series)\n",
        "\n",
        "\n",
        "def make_avg():\n",
        "    series = []\n",
        "\n",
        "    def av(new_value):\n",
        "        series.append(new_value)\n",
        "        total = sum(series)\n",
        "        return total/len(series)\n",
        "    return av\n",
        "    \n",
        "\n",
        "avg = make_avg()\n",
        "avg(10)\n",
        "avg(11)\n",
        "avg(12)\n",
        "avg.__code__.co_freevars\n",
        "avg.__closure__[0].cell_contents\n",
        "avg.__code__.co_varnames\n"
      ],
      "metadata": {
        "colab": {
          "base_uri": "https://localhost:8080/"
        },
        "id": "DLNVd24Zwl3n",
        "outputId": "baa6e795-b85a-4a3f-87fc-3777be3de305"
      },
      "execution_count": null,
      "outputs": [
        {
          "output_type": "execute_result",
          "data": {
            "text/plain": [
              "('new_value', 'total')"
            ]
          },
          "metadata": {},
          "execution_count": 51
        }
      ]
    },
    {
      "cell_type": "code",
      "source": [
        "licznik = 1\n",
        "total = 1\n",
        "\n",
        "def make_avg():\n",
        "    licznik = 5\n",
        "    total = 5\n",
        "  \n",
        "\n",
        "    def av(new_value):\n",
        "        nonlocal licznik,total\n",
        "        licznik += 1\n",
        "        total += new_value\n",
        "        print(licznik)\n",
        "        return total/licznik\n",
        "    \n",
        "    return av\n",
        "\n",
        "avg = make_avg()\n",
        "avg(10)\n",
        "# print(licznik)\n",
        "# print(total)"
      ],
      "metadata": {
        "colab": {
          "base_uri": "https://localhost:8080/"
        },
        "id": "x-_Cyfipy5Vy",
        "outputId": "663677fc-0491-4398-cedb-ff9251ffcda3"
      },
      "execution_count": null,
      "outputs": [
        {
          "output_type": "stream",
          "name": "stdout",
          "text": [
            "6\n"
          ]
        },
        {
          "output_type": "execute_result",
          "data": {
            "text/plain": [
              "2.5"
            ]
          },
          "metadata": {},
          "execution_count": 57
        }
      ]
    },
    {
      "cell_type": "code",
      "source": [
        "import time\n",
        "import functools\n",
        "\n",
        "DEFAULT_FMT = '[{elapsed:0.8f}s] {name}({_args}) -> {result}'\n",
        "\n",
        "def clock(fmt=DEFAULT_FMT):\n",
        "    def decorate(func):\n",
        "        def zegar(*_args):\n",
        "            t0 = time.time()\n",
        "            _result = func(*_args)\n",
        "            elapsed = time.time() - t0\n",
        "            name = func.__name__\n",
        "            arg_str = ''.join(repr(arg) for arg in _args)\n",
        "            result = repr(_result)\n",
        "            print(fmt.format(**locals()))\n",
        "            return _result\n",
        "        return zegar\n",
        "    return decorate\n",
        "\n",
        "\n",
        "@clock('{name}({_args}) dt={elapsed:0.3f}s')\n",
        "def snooze(sec):\n",
        "    time.sleep(sec)\n",
        "for i in range(3):\n",
        "    snooze(.123)\n",
        "\n",
        "\n",
        "\n",
        "\n",
        "# @functools.lru_cache(maxsize=128, typed=False)\n",
        "# clock\n",
        "# def factorial(n):\n",
        "#     if n < 2:\n",
        "#         return n\n",
        "#     return factorial(n-2) + factorial(n-1)\n",
        "\n",
        "\n",
        "# snooze(.123)\n",
        "# print('6!=',factorial(6))\n",
        "\n",
        "\n"
      ],
      "metadata": {
        "colab": {
          "base_uri": "https://localhost:8080/"
        },
        "id": "miDHzT1Y0gwd",
        "outputId": "b3245f22-ab32-4135-a6b0-631261d4a1bd"
      },
      "execution_count": null,
      "outputs": [
        {
          "output_type": "stream",
          "name": "stdout",
          "text": [
            "snooze((0.123,)) dt=0.123s\n",
            "snooze((0.123,)) dt=0.123s\n",
            "snooze((0.123,)) dt=0.123s\n"
          ]
        }
      ]
    },
    {
      "cell_type": "code",
      "source": [
        "import html\n",
        "\n",
        "def htmlize(obj):\n",
        "    content = html.escape(repr(obj))\n",
        "    return '<pre>{}</pre>'.format(content)\n",
        "\n",
        "\n",
        "htmlize({1,2,3})\n",
        "htmlize(abs)\n",
        "htmlize('Programowanie w HTML \\n - ale i w Python')\n",
        "htmlize(40)\n",
        "print(htmlize(['kolory',66,{3,2,1}]))"
      ],
      "metadata": {
        "colab": {
          "base_uri": "https://localhost:8080/"
        },
        "id": "6Khj_uJJ6x8_",
        "outputId": "ab6ab9a7-0507-45c5-cdd8-4e30fc13b98f"
      },
      "execution_count": null,
      "outputs": [
        {
          "output_type": "stream",
          "name": "stdout",
          "text": [
            "<pre>[&#x27;kolory&#x27;, 66, {1, 2, 3}]</pre>\n"
          ]
        }
      ]
    },
    {
      "cell_type": "code",
      "source": [
        "import ftplib\n",
        "\n",
        "ftp = ftplib.FTP('tgftp.nws.noaa.gov')\n",
        "ftp.login()\n",
        "ftp.cwd('data')\n",
        "ftp.nlst()\n",
        "x = ftp.retrbinary('RETR observations/metar/decoded/A302.TXT', open('DANE.TXT','wb').write)"
      ],
      "metadata": {
        "id": "hHFDaGQMKwQa"
      },
      "execution_count": null,
      "outputs": []
    },
    {
      "cell_type": "code",
      "source": [
        "import requests\n",
        "import json\n",
        "\n",
        "odp = requests.get(\"http://marsweather.ingenology.com/v1/latest/?format=json\")\n",
        "pogoda = json.loads(odp.text)\n",
        "pogoda = odp.json()"
      ],
      "metadata": {
        "id": "VvmzqR6ZPHSh"
      },
      "execution_count": null,
      "outputs": []
    },
    {
      "cell_type": "code",
      "source": [
        "import bs4\n",
        "html = open(\"test.html\").read()\n",
        "bs = bs4.BeautifulSoup(html, \"html.parser\")\n",
        "lista_linkow = bs(\"a\")\n",
        "\n",
        "linki = lista_linkow[0]\n",
        "print(linki.text)\n",
        "\n",
        "print(lista_linkow)"
      ],
      "metadata": {
        "colab": {
          "base_uri": "https://localhost:8080/"
        },
        "id": "gmMug63RRqum",
        "outputId": "4bff9a31-8aef-43a1-c58b-52a268c803bf"
      },
      "execution_count": null,
      "outputs": [
        {
          "output_type": "stream",
          "name": "stdout",
          "text": [
            "odnośnik\n",
            "[<a href=\"http://bitbucket.dev.null\">odnośnik</a>]\n"
          ]
        }
      ]
    },
    {
      "cell_type": "markdown",
      "source": [
        "JSON Python\n",
        "Obiekt Słownik\n",
        "Tablica Lista\n",
        "Łańcuch znaków Łańcuch znaków\n",
        "Liczba (całkowita) Liczba całkowita\n",
        "Liczba (rzeczywista) Liczba zmiennoprzecinkowa\n",
        "Prawda True\n",
        "Fałsz False\n",
        "Null None"
      ],
      "metadata": {
        "id": "eE14HRJ1Qzzj"
      }
    },
    {
      "cell_type": "code",
      "source": [
        "import sqlite3\n",
        "\n",
        "conn = sqlite3.connect(\"plik_bazy.db\")\n",
        "kursor = conn.cursor()\n",
        "kursor\n",
        "\n",
        "#kursor.execute(\"create table ludzie (id integer primary key, imie text, liczba integer)\")\n",
        "#kursor.execute(\"insert into ludzie (imie, liczba) values ('Tomek',10)\")\n",
        "#conn.commit()\n",
        "\n",
        "wyniki = kursor.execute(\"select * from ludzie\")\n",
        "print(wyniki.fetchall())\n",
        "conn.close()"
      ],
      "metadata": {
        "colab": {
          "base_uri": "https://localhost:8080/"
        },
        "id": "LyiB65beUa6L",
        "outputId": "0a38dfd2-e974-4a33-9bf0-6c95279cd739"
      },
      "execution_count": null,
      "outputs": [
        {
          "output_type": "stream",
          "name": "stdout",
          "text": [
            "[(1, 'Tomek', 10)]\n"
          ]
        }
      ]
    }
  ]
}